{
 "cells": [
  {
   "cell_type": "code",
   "execution_count": 1,
   "metadata": {},
   "outputs": [],
   "source": [
    "%matplotlib inline"
   ]
  },
  {
   "cell_type": "markdown",
   "metadata": {},
   "source": [
    "\n",
    "# OT for image color adaptation\n",
    "\n",
    "This example presents a way of transferring colors between two images\n",
    "with Optimal Transport as introduced in [6]\n",
    "\n",
    "[6] Ferradans, S., Papadakis, N., Peyre, G., & Aujol, J. F. (2014).\n",
    "Regularized discrete optimal transport.\n",
    "SIAM Journal on Imaging Sciences, 7(3), 1853-1882.\n"
   ]
  },
  {
   "cell_type": "code",
   "execution_count": 2,
   "metadata": {},
   "outputs": [],
   "source": [
    "# Authors: Remi Flamary <remi.flamary@unice.fr>\n",
    "#          Stanislas Chambon <stan.chambon@gmail.com>\n",
    "#\n",
    "# License: MIT License\n",
    "\n",
    "# sphinx_gallery_thumbnail_number = 2\n",
    "\n",
    "import numpy as np\n",
    "import matplotlib.pylab as pl\n",
    "import ot\n",
    "\n",
    "\n",
    "r = np.random.RandomState(42)\n",
    "\n",
    "\n",
    "def im2mat(img):\n",
    "    \"\"\"Converts an image to matrix (one pixel per line)\"\"\"\n",
    "    return img.reshape((img.shape[0] * img.shape[1], img.shape[2]))\n",
    "\n",
    "\n",
    "def mat2im(X, shape):\n",
    "    \"\"\"Converts back a matrix to an image\"\"\"\n",
    "    return X.reshape(shape)\n",
    "\n",
    "\n",
    "def minmax(img):\n",
    "    return np.clip(img, 0, 1)"
   ]
  },
  {
   "cell_type": "markdown",
   "metadata": {},
   "source": [
    "## Generate data\n",
    "\n"
   ]
  },
  {
   "cell_type": "code",
   "execution_count": 3,
   "metadata": {},
   "outputs": [
    {
     "ename": "FileNotFoundError",
     "evalue": "[Errno 2] No such file or directory: '../../data/ocean_day.jpg'",
     "output_type": "error",
     "traceback": [
      "\u001b[0;31m---------------------------------------------------------------------------\u001b[0m",
      "\u001b[0;31mFileNotFoundError\u001b[0m                         Traceback (most recent call last)",
      "\u001b[0;32m<ipython-input-3-fbb88e0b024c>\u001b[0m in \u001b[0;36m<module>\u001b[0;34m\u001b[0m\n\u001b[1;32m      1\u001b[0m \u001b[0;31m# Loading images\u001b[0m\u001b[0;34m\u001b[0m\u001b[0;34m\u001b[0m\u001b[0m\n\u001b[0;32m----> 2\u001b[0;31m \u001b[0mI1\u001b[0m \u001b[0;34m=\u001b[0m \u001b[0mpl\u001b[0m\u001b[0;34m.\u001b[0m\u001b[0mimread\u001b[0m\u001b[0;34m(\u001b[0m\u001b[0;34m'../../data/ocean_day.jpg'\u001b[0m\u001b[0;34m)\u001b[0m\u001b[0;34m.\u001b[0m\u001b[0mastype\u001b[0m\u001b[0;34m(\u001b[0m\u001b[0mnp\u001b[0m\u001b[0;34m.\u001b[0m\u001b[0mfloat64\u001b[0m\u001b[0;34m)\u001b[0m \u001b[0;34m/\u001b[0m \u001b[0;36m256\u001b[0m\u001b[0;34m\u001b[0m\u001b[0m\n\u001b[0m\u001b[1;32m      3\u001b[0m \u001b[0mI2\u001b[0m \u001b[0;34m=\u001b[0m \u001b[0mpl\u001b[0m\u001b[0;34m.\u001b[0m\u001b[0mimread\u001b[0m\u001b[0;34m(\u001b[0m\u001b[0;34m'../../data/ocean_sunset.jpg'\u001b[0m\u001b[0;34m)\u001b[0m\u001b[0;34m.\u001b[0m\u001b[0mastype\u001b[0m\u001b[0;34m(\u001b[0m\u001b[0mnp\u001b[0m\u001b[0;34m.\u001b[0m\u001b[0mfloat64\u001b[0m\u001b[0;34m)\u001b[0m \u001b[0;34m/\u001b[0m \u001b[0;36m256\u001b[0m\u001b[0;34m\u001b[0m\u001b[0m\n\u001b[1;32m      4\u001b[0m \u001b[0;34m\u001b[0m\u001b[0m\n\u001b[1;32m      5\u001b[0m \u001b[0mX1\u001b[0m \u001b[0;34m=\u001b[0m \u001b[0mim2mat\u001b[0m\u001b[0;34m(\u001b[0m\u001b[0mI1\u001b[0m\u001b[0;34m)\u001b[0m\u001b[0;34m\u001b[0m\u001b[0m\n",
      "\u001b[0;32m/usr/local/lib/python3.5/dist-packages/matplotlib/pyplot.py\u001b[0m in \u001b[0;36mimread\u001b[0;34m(fname, format)\u001b[0m\n\u001b[1;32m   2150\u001b[0m \u001b[0;34m@\u001b[0m\u001b[0mdocstring\u001b[0m\u001b[0;34m.\u001b[0m\u001b[0mcopy_dedent\u001b[0m\u001b[0;34m(\u001b[0m\u001b[0mmatplotlib\u001b[0m\u001b[0;34m.\u001b[0m\u001b[0mimage\u001b[0m\u001b[0;34m.\u001b[0m\u001b[0mimread\u001b[0m\u001b[0;34m)\u001b[0m\u001b[0;34m\u001b[0m\u001b[0m\n\u001b[1;32m   2151\u001b[0m \u001b[0;32mdef\u001b[0m \u001b[0mimread\u001b[0m\u001b[0;34m(\u001b[0m\u001b[0mfname\u001b[0m\u001b[0;34m,\u001b[0m \u001b[0mformat\u001b[0m\u001b[0;34m=\u001b[0m\u001b[0;32mNone\u001b[0m\u001b[0;34m)\u001b[0m\u001b[0;34m:\u001b[0m\u001b[0;34m\u001b[0m\u001b[0m\n\u001b[0;32m-> 2152\u001b[0;31m     \u001b[0;32mreturn\u001b[0m \u001b[0mmatplotlib\u001b[0m\u001b[0;34m.\u001b[0m\u001b[0mimage\u001b[0m\u001b[0;34m.\u001b[0m\u001b[0mimread\u001b[0m\u001b[0;34m(\u001b[0m\u001b[0mfname\u001b[0m\u001b[0;34m,\u001b[0m \u001b[0mformat\u001b[0m\u001b[0;34m)\u001b[0m\u001b[0;34m\u001b[0m\u001b[0m\n\u001b[0m\u001b[1;32m   2153\u001b[0m \u001b[0;34m\u001b[0m\u001b[0m\n\u001b[1;32m   2154\u001b[0m \u001b[0;34m\u001b[0m\u001b[0m\n",
      "\u001b[0;32m/usr/local/lib/python3.5/dist-packages/matplotlib/image.py\u001b[0m in \u001b[0;36mimread\u001b[0;34m(fname, format)\u001b[0m\n\u001b[1;32m   1349\u001b[0m                              \u001b[0;34m'with Pillow installed matplotlib can handle '\u001b[0m\u001b[0;34m\u001b[0m\u001b[0m\n\u001b[1;32m   1350\u001b[0m                              'more images' % list(handlers))\n\u001b[0;32m-> 1351\u001b[0;31m         \u001b[0;32mwith\u001b[0m \u001b[0mImage\u001b[0m\u001b[0;34m.\u001b[0m\u001b[0mopen\u001b[0m\u001b[0;34m(\u001b[0m\u001b[0mfname\u001b[0m\u001b[0;34m)\u001b[0m \u001b[0;32mas\u001b[0m \u001b[0mimage\u001b[0m\u001b[0;34m:\u001b[0m\u001b[0;34m\u001b[0m\u001b[0m\n\u001b[0m\u001b[1;32m   1352\u001b[0m             \u001b[0;32mreturn\u001b[0m \u001b[0mpil_to_array\u001b[0m\u001b[0;34m(\u001b[0m\u001b[0mimage\u001b[0m\u001b[0;34m)\u001b[0m\u001b[0;34m\u001b[0m\u001b[0m\n\u001b[1;32m   1353\u001b[0m \u001b[0;34m\u001b[0m\u001b[0m\n",
      "\u001b[0;32m/usr/local/lib/python3.5/dist-packages/PIL/Image.py\u001b[0m in \u001b[0;36mopen\u001b[0;34m(fp, mode)\u001b[0m\n\u001b[1;32m   2876\u001b[0m \u001b[0;34m\u001b[0m\u001b[0m\n\u001b[1;32m   2877\u001b[0m     \u001b[0;32mif\u001b[0m \u001b[0mfilename\u001b[0m\u001b[0;34m:\u001b[0m\u001b[0;34m\u001b[0m\u001b[0m\n\u001b[0;32m-> 2878\u001b[0;31m         \u001b[0mfp\u001b[0m \u001b[0;34m=\u001b[0m \u001b[0mbuiltins\u001b[0m\u001b[0;34m.\u001b[0m\u001b[0mopen\u001b[0m\u001b[0;34m(\u001b[0m\u001b[0mfilename\u001b[0m\u001b[0;34m,\u001b[0m \u001b[0;34m\"rb\"\u001b[0m\u001b[0;34m)\u001b[0m\u001b[0;34m\u001b[0m\u001b[0m\n\u001b[0m\u001b[1;32m   2879\u001b[0m         \u001b[0mexclusive_fp\u001b[0m \u001b[0;34m=\u001b[0m \u001b[0;32mTrue\u001b[0m\u001b[0;34m\u001b[0m\u001b[0m\n\u001b[1;32m   2880\u001b[0m \u001b[0;34m\u001b[0m\u001b[0m\n",
      "\u001b[0;31mFileNotFoundError\u001b[0m: [Errno 2] No such file or directory: '../../data/ocean_day.jpg'"
     ]
    }
   ],
   "source": [
    "# Loading images\n",
    "I1 = pl.imread('../../data/ocean_day.jpg').astype(np.float64) / 256\n",
    "I2 = pl.imread('../../data/ocean_sunset.jpg').astype(np.float64) / 256\n",
    "\n",
    "X1 = im2mat(I1)\n",
    "X2 = im2mat(I2)\n",
    "\n",
    "# training samples\n",
    "nb = 1000\n",
    "idx1 = r.randint(X1.shape[0], size=(nb,))\n",
    "idx2 = r.randint(X2.shape[0], size=(nb,))\n",
    "\n",
    "Xs = X1[idx1, :]\n",
    "Xt = X2[idx2, :]"
   ]
  },
  {
   "cell_type": "markdown",
   "metadata": {},
   "source": [
    "## Plot original image\n",
    "\n"
   ]
  },
  {
   "cell_type": "code",
   "execution_count": null,
   "metadata": {},
   "outputs": [],
   "source": [
    "pl.figure(1, figsize=(6.4, 3))\n",
    "\n",
    "pl.subplot(1, 2, 1)\n",
    "pl.imshow(I1)\n",
    "pl.axis('off')\n",
    "pl.title('Image 1')\n",
    "\n",
    "pl.subplot(1, 2, 2)\n",
    "pl.imshow(I2)\n",
    "pl.axis('off')\n",
    "pl.title('Image 2')"
   ]
  },
  {
   "cell_type": "markdown",
   "metadata": {},
   "source": [
    "## Scatter plot of colors\n",
    "\n"
   ]
  },
  {
   "cell_type": "code",
   "execution_count": null,
   "metadata": {},
   "outputs": [],
   "source": [
    "pl.figure(2, figsize=(6.4, 3))\n",
    "\n",
    "pl.subplot(1, 2, 1)\n",
    "pl.scatter(Xs[:, 0], Xs[:, 2], c=Xs)\n",
    "pl.axis([0, 1, 0, 1])\n",
    "pl.xlabel('Red')\n",
    "pl.ylabel('Blue')\n",
    "pl.title('Image 1')\n",
    "\n",
    "pl.subplot(1, 2, 2)\n",
    "pl.scatter(Xt[:, 0], Xt[:, 2], c=Xt)\n",
    "pl.axis([0, 1, 0, 1])\n",
    "pl.xlabel('Red')\n",
    "pl.ylabel('Blue')\n",
    "pl.title('Image 2')\n",
    "pl.tight_layout()"
   ]
  },
  {
   "cell_type": "markdown",
   "metadata": {},
   "source": [
    "## Instantiate the different transport algorithms and fit them\n",
    "\n"
   ]
  },
  {
   "cell_type": "code",
   "execution_count": null,
   "metadata": {},
   "outputs": [],
   "source": [
    "# EMDTransport\n",
    "ot_emd = ot.da.EMDTransport()\n",
    "ot_emd.fit(Xs=Xs, Xt=Xt)\n",
    "\n",
    "# SinkhornTransport\n",
    "ot_sinkhorn = ot.da.SinkhornTransport(reg_e=1e-1)\n",
    "ot_sinkhorn.fit(Xs=Xs, Xt=Xt)\n",
    "\n",
    "# prediction between images (using out of sample prediction as in [6])\n",
    "transp_Xs_emd = ot_emd.transform(Xs=X1)\n",
    "transp_Xt_emd = ot_emd.inverse_transform(Xt=X2)\n",
    "\n",
    "transp_Xs_sinkhorn = ot_sinkhorn.transform(Xs=X1)\n",
    "transp_Xt_sinkhorn = ot_sinkhorn.inverse_transform(Xt=X2)\n",
    "\n",
    "I1t = minmax(mat2im(transp_Xs_emd, I1.shape))\n",
    "I2t = minmax(mat2im(transp_Xt_emd, I2.shape))\n",
    "\n",
    "I1te = minmax(mat2im(transp_Xs_sinkhorn, I1.shape))\n",
    "I2te = minmax(mat2im(transp_Xt_sinkhorn, I2.shape))"
   ]
  },
  {
   "cell_type": "markdown",
   "metadata": {},
   "source": [
    "## Plot new images\n",
    "\n"
   ]
  },
  {
   "cell_type": "code",
   "execution_count": null,
   "metadata": {},
   "outputs": [],
   "source": [
    "pl.figure(3, figsize=(8, 4))\n",
    "\n",
    "pl.subplot(2, 3, 1)\n",
    "pl.imshow(I1)\n",
    "pl.axis('off')\n",
    "pl.title('Image 1')\n",
    "\n",
    "pl.subplot(2, 3, 2)\n",
    "pl.imshow(I1t)\n",
    "pl.axis('off')\n",
    "pl.title('Image 1 Adapt')\n",
    "\n",
    "pl.subplot(2, 3, 3)\n",
    "pl.imshow(I1te)\n",
    "pl.axis('off')\n",
    "pl.title('Image 1 Adapt (reg)')\n",
    "\n",
    "pl.subplot(2, 3, 4)\n",
    "pl.imshow(I2)\n",
    "pl.axis('off')\n",
    "pl.title('Image 2')\n",
    "\n",
    "pl.subplot(2, 3, 5)\n",
    "pl.imshow(I2t)\n",
    "pl.axis('off')\n",
    "pl.title('Image 2 Adapt')\n",
    "\n",
    "pl.subplot(2, 3, 6)\n",
    "pl.imshow(I2te)\n",
    "pl.axis('off')\n",
    "pl.title('Image 2 Adapt (reg)')\n",
    "pl.tight_layout()\n",
    "\n",
    "pl.show()"
   ]
  },
  {
   "cell_type": "code",
   "execution_count": null,
   "metadata": {
    "collapsed": true
   },
   "outputs": [],
   "source": []
  }
 ],
 "metadata": {
  "kernelspec": {
   "display_name": "Python 3",
   "language": "python",
   "name": "python3"
  }
 },
 "nbformat": 4,
 "nbformat_minor": 1
}
