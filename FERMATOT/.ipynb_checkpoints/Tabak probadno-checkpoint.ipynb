{
 "cells": [
  {
   "cell_type": "code",
   "execution_count": 290,
   "metadata": {
    "collapsed": true
   },
   "outputs": [],
   "source": [
    "import fermat as F\n",
    "import numpy as np\n",
    "import scipy.sparse as sp\n",
    "import time\n",
    "from scipy.spatial import  distance_matrix\n",
    "from sklearn.manifold import TSNE\n",
    "from scipy.optimize import minimize\n",
    "from sklearn.neighbors import KDTree\n",
    "from scipy.optimize import LinearConstraint\n",
    "from scipy.sparse import csr_matrix\n",
    "\n",
    "\n",
    "from mpl_toolkits.mplot3d import Axes3D\n",
    "import matplotlib.pyplot as plt"
   ]
  },
  {
   "cell_type": "markdown",
   "metadata": {},
   "source": [
    "importe todo y armo las funciones que me dicen el costo de transportar una serie de puntos con fermat dada la matriz de distancias de fermat (lo que usaba en transporte optimo antes), tambien hago su gradiente y pruebo"
   ]
  },
  {
   "cell_type": "code",
   "execution_count": 291,
   "metadata": {
    "collapsed": true
   },
   "outputs": [],
   "source": [
    "#Builds fermat graph given data, alpha, method (and if 'D' is chosen with k_fermat neighbours)\n",
    "#RETURNS: fermat distance matrix between points of data and a KD-Tree \n",
    "\n",
    "\n",
    "def fermat_graph(data,alpha,method='FW',k_fermat=30):\n",
    "    model=F.Fermat(alpha, path_method=method,k=k_fermat)\n",
    "    model.fit(np.matrix(distance_matrix(data,data)))\n",
    "    fermat_distances = model.get_distances()\n",
    "    tree = KDTree(data, leaf_size=2)\n",
    "    return fermat_distances,tree\n",
    "              \n",
    "\n",
    "#Computes fermat_cost of transporting initialData to x with the given fermat_distances\n",
    "#initial data will be points\n",
    "\n",
    "#It uses the KD-Tree built with fermat_graph() as well as a parameter 'k' which is \n",
    "#the amount of neighbours to look at when getting the fermat distance for a point that\n",
    "#is not in the graph (including it may be computationally expensive)\n",
    "#It also recieves the original data and the alpha used to build fermat_distances\n",
    "              \n",
    "#RETURNS: fermat cost and gradient of that cost\n",
    "def fermat_cost(x,initialData,dimension,fermat_distances,tree,data,k,alpha):\n",
    "    assert(len(x)==(initialData.shape[0])*dimension)\n",
    "    real_x=x.reshape(-1,dimension)     \n",
    "    res=0\n",
    "    gradient=np.zeros(x.shape)\n",
    "    for i in range(initialData.shape[0]):\n",
    "        dist,grad_idx=fermat_dist(initialData[i,:],real_x[i,:],fermat_distances,tree,k,alpha) \n",
    "        q=data[grad_idx,:] \n",
    "        local_grad=alpha*(np.linalg.norm(q-real_x[i,:])**(alpha-2))*(real_x[i,:]-q)\n",
    "        \n",
    "        res+=dist                      \n",
    "        gradient[dimension*i:dimension*(i+1)]=local_grad\n",
    "    return res,gradient\n",
    "\n",
    "\n",
    "#Computes fermat distance between start  and end using fermat_distances\n",
    "              \n",
    "#it also recieves the KD-tree, numbre of neighbours to look at, and alpha used in fermat\n",
    "              \n",
    "#RETURNS: fermat distance between start and end, as well as the index of the k-nearest neighbour\n",
    "#of end with smallest fermat distance to start\n",
    "def fermat_dist(start,end,fermat_distances,tree,k,alpha):\n",
    "    \n",
    "    start_euclid_dist,start_ind=tree.query([start],k=1)\n",
    "    idx=start_ind[0,0]\n",
    "    start_euclid_dist=np.power(start_euclid_dist,alpha)\n",
    "    \n",
    "    end_euclid_dist,end_ind=tree.query([end],k=k)\n",
    "    end_euclid_dist=np.power(end_euclid_dist,alpha)\n",
    "        \n",
    "    dist=min([ fermat_distances[idx,end_ind[0,i]]+end_euclid_dist[0,i] for i in range(end_euclid_dist.shape[1])])\n",
    "    \n",
    "    minim=np.argmin([ fermat_distances[idx,end_ind[0,i]] for i in range(end_ind.shape[1])]) \n",
    "    grad_idx=end_ind[0,minim] #index of k-nearest neighbour with smallest fermat_distance to idx.\n",
    "    \n",
    "    return dist+start_euclid_dist[0,0],grad_idx\n",
    "              \n",
    "\n",
    "#Here initialData are the points, and x the trasnportation of those\n",
    "##UNUSED\n",
    "def euclidean_cost(x,initialData):\n",
    "    assert(len(initialData.flatten())==len(x))\n",
    "    dimension=initialData.shape[1]\n",
    "    real_x=x.reshape(-1,dimension)\n",
    "    res=0\n",
    "    gradient=np.zeros(x.shape)\n",
    "    for i in range(initialData.shape[0]):\n",
    "        res+=np.linalg.norm(initialData[i,:]-real_x[i,:])**2\n",
    "        local_gradient=2*(real_x[i,:]-initialData[i,:])\n",
    "        gradient[dimension*i:(i+1)*dimension]=local_gradient\n",
    "    return res,gradient\n"
   ]
  },
  {
   "cell_type": "code",
   "execution_count": 292,
   "metadata": {},
   "outputs": [
    {
     "name": "stdout",
     "output_type": "stream",
     "text": [
      "(5.962499085665424, array([0.33310348, 0.46961745, 1.66538428, 0.33742483, 0.97707987,\n",
      "       0.86542783, 1.47023074, 1.86828092, 0.65478755, 1.45785908,\n",
      "       0.24429668, 1.64526898, 1.75362548, 0.07025186, 1.27561329,\n",
      "       1.80205924]))\n"
     ]
    },
    {
     "data": {
      "text/plain": [
       "(2.711076110268511,\n",
       " array([0.33310348, 0.46961745, 1.08286206, 0.04941044, 0.33310348,\n",
       "        0.46961745, 0.33310348, 0.46961745, 0.33310348, 0.46961745,\n",
       "        0.33310348, 0.46961745, 1.08286206, 0.04941044, 0.33310348,\n",
       "        0.46961745]))"
      ]
     },
     "execution_count": 292,
     "metadata": {},
     "output_type": "execute_result"
    }
   ],
   "source": [
    "data=np.random.random((10,2))\n",
    "\n",
    "x=np.ones(16)\n",
    "\n",
    "##Euclidean\n",
    "print(euclidean_cost(x,data[0:8,:]))\n",
    "\n",
    "##Fermat\n",
    "\n",
    "initialData=data[0:8,:]\n",
    "dimension=2\n",
    "alpha=2\n",
    "k=2\n",
    "f_dist,tree=fermat_graph(data,alpha=alpha)\n",
    "\n",
    "\n",
    "fermat_cost(x,initialData,dimension,f_dist,tree,data,k,alpha)"
   ]
  },
  {
   "cell_type": "markdown",
   "metadata": {},
   "source": [
    "Armo aca los datos que podrian servir para al menos probar que ande"
   ]
  },
  {
   "cell_type": "code",
   "execution_count": 293,
   "metadata": {},
   "outputs": [
    {
     "data": {
      "image/png": "[encoded data removed]",
      "text/plain": [
       "<Figure size 432x288 with 1 Axes>"
      ]
     },
     "metadata": {
      "needs_background": "light"
     },
     "output_type": "display_data"
    }
   ],
   "source": [
    "puntos=50\n",
    "\n",
    "dx=4/puntos\n",
    "x=np.array([-2+i*dx for i in range(puntos)]).reshape(-1,1)\n",
    "y=-x*x.reshape(-1,1) +0.3*np.random.random(puntos).reshape(-1,1)\n",
    "W=np.concatenate((x,y),axis=1)\n",
    "\n",
    "\n",
    "dx=4/puntos\n",
    "x=np.array([-2+i*dx for i in range(puntos)]).reshape(-1,1)\n",
    "y=-x*x.reshape(-1,1) +0.3*np.random.random(puntos).reshape(-1,1) -0.5\n",
    "W=np.concatenate((W,np.concatenate((x,y),axis=1)),axis=0)\n",
    "\n",
    "dx=4/puntos\n",
    "x=np.array([-2+i*dx for i in range(puntos)]).reshape(-1,1)\n",
    "y=-x*x.reshape(-1,1) +0.3*np.random.random(puntos).reshape(-1,1) +0.5\n",
    "W=np.concatenate((W,np.concatenate((x,y),axis=1)),axis=0)\n",
    "\n",
    "dx=4/puntos\n",
    "x=np.array([-2+i*dx for i in range(puntos)]).reshape(-1,1)\n",
    "y=-x*x.reshape(-1,1) +0.3*np.random.random(puntos).reshape(-1,1) -0.25\n",
    "W=np.concatenate((W,np.concatenate((x,y),axis=1)),axis=0)\n",
    "\n",
    "dx=4/puntos\n",
    "x=np.array([-2+i*dx for i in range(puntos)]).reshape(-1,1)\n",
    "y=-x*x.reshape(-1,1) +0.3*np.random.random(puntos).reshape(-1,1) +0.25\n",
    "W=np.concatenate((W,np.concatenate((x,y),axis=1)),axis=0)\n",
    "\n",
    "\n",
    "\n",
    "\n",
    "y1, y2 = np.random.multivariate_normal([1.7,-4], [[0.05,0],[0,0.05]], puntos).T\n",
    "y1=np.array(y1)\n",
    "y2=np.array(y2)\n",
    "y1=y1.reshape(-1,1)\n",
    "y2=y2.reshape(-1,1)\n",
    "\n",
    "Ycol=np.concatenate((y1,y2),axis=1)\n",
    "Y=Ycol.flatten()\n",
    "\n",
    "\n",
    "x1, x2 = np.random.multivariate_normal([-1.7,-4], [[0.05,0],[0,0.05]], puntos).T\n",
    "x1=np.array(x1)\n",
    "x2=np.array(x2)\n",
    "x1=x1.reshape(-1,1)\n",
    "x2=x2.reshape(-1,1)\n",
    "Zcol=np.concatenate((x1,x2),axis=1)\n",
    "Z=Zcol.flatten()\n",
    "\n",
    "\n",
    "\n",
    "\n",
    "\n",
    "plt.plot(W[:,0],W[:,1],'.',c='y')\n",
    "plt.plot(x1,x2,'x',c='r')\n",
    "plt.plot(y1,y2,'x',c='b')\n",
    "plt.axis('equal')\n",
    "plt.title('Rojo es una distribucion, azul otra y amarillo es la superficie')\n",
    "plt.show()"
   ]
  },
  {
   "cell_type": "markdown",
   "metadata": {},
   "source": [
    "# ACA ARRANCA LO NUEVO"
   ]
  },
  {
   "cell_type": "markdown",
   "metadata": {},
   "source": [
    "## Tomo la dist de fermat al cuadrado por lo que dijo esteban, sino cualquier solucion en la geodesica va a ser lo mismo"
   ]
  },
  {
   "cell_type": "code",
   "execution_count": 294,
   "metadata": {
    "collapsed": true
   },
   "outputs": [],
   "source": [
    "data=np.concatenate((Zcol,Ycol,W),axis=0)\n",
    "\n",
    "alpha=2\n",
    "k=10\n",
    "dimension=2\n",
    "h=1 #TUNEARLO E INVESTIGAR (es el bandwith de los kernel)\n",
    "\n",
    "f_dist,tree=fermat_graph(data,alpha=alpha)\n",
    "f_dist=f_dist**2\n",
    "\n",
    "x=np.concatenate((Zcol,Ycol),axis=0) #los datos X iniciales, las distribuciones. \n",
    "z=np.matrix([0 for i in range(Zcol.shape[0])]+[1 for i in range(Ycol.shape[0])]).T\n",
    "#le pongo label 0 a la primera y 1 a la segunda"
   ]
  },
  {
   "cell_type": "markdown",
   "metadata": {},
   "source": [
    "### Defino las funciones que utilizan en el paper de tabak. Basicamente los nucleos y sus gradientes (armo una matriz que tiene el resultado de los kernel con todos los posibles centros evaluados en todo los posibles puntos), esta matriz C que definen, el lagrangiano y su gradiente "
   ]
  },
  {
   "cell_type": "code",
   "execution_count": 313,
   "metadata": {},
   "outputs": [],
   "source": [
    "#ARMO LA MATRIZ C    \n",
    "#vector con todos los valores z que hay, una matriz por filas paso\n",
    "#viene en el mismo orden que los y\n",
    "def armar_C(z,b=1):\n",
    "    z_matrix=np.zeros((z.shape[0],z.shape[0]))\n",
    "    for j in range(z.shape[0]):\n",
    "        sumita=0\n",
    "        for i in range (z.shape[0]):\n",
    "            aux=kernel(z[j],z[i],b,1)\n",
    "            z_matrix[i,j]=aux\n",
    "            sumita+=aux\n",
    "        z_matrix[:,j]=z_matrix[:,j]/sumita\n",
    "    C=z_matrix-np.mean(z_matrix,axis=0).reshape(-1,1)\n",
    "    return C\n",
    "\n",
    "def armar_C_categorico(z):\n",
    "    z_matrix=np.zeros((z.shape[0],z.shape[0]))\n",
    "    for j in range(z.shape[0]):\n",
    "        sumita=0\n",
    "        for i in range (z.shape[0]):\n",
    "            aux=0\n",
    "            if(z[i]==z[j]):\n",
    "                aux=1\n",
    "            z_matrix[i,j]=aux\n",
    "            sumita+=aux\n",
    "        z_matrix[:,j]=z_matrix[:,j]/sumita\n",
    "    C=z_matrix-np.mean(z_matrix,axis=0).reshape(-1,1)\n",
    "    return C\n",
    "\n",
    "\n",
    "\n",
    "\n",
    "\n",
    "#DEFINO LOS KERNEL Y SUS GRADIENTES (DERIVO EN PRIMER COORDENADA)\n",
    "def kernel2(x,centro):\n",
    "    return np.exp( -np.linalg.norm(x-centro)**2/(2*(h**2)) )/np.sqrt((2*np.pi)**dimension) \n",
    "     \n",
    "def kernel_grad2(x,centro):\n",
    "    return -(1/(h**2))*(x-centro)*np.exp( -np.linalg.norm(x-centro)**2/(2*(h**2)) )/np.sqrt((2*np.pi)**dimension) \n",
    "\n",
    "\n",
    "\n",
    "\n",
    "#matriz que tieneen el lugar ij al kernel(y_i,y_j) y\n",
    "#lo mismo con gradiente_ij (en la primer coord derivo el kernel de centro y_j y evaluo en y_i)\n",
    "#TENGO QUE HACERLO MAS RAPIDO ESTO!!\n",
    "def kernel_matrix_y2(y):\n",
    "        y_matrix=np.zeros((y.shape[0],y.shape[0]))\n",
    "        for i in range(y.shape[0]):\n",
    "            y_matrix[i,:]=np.array([kernel2(y[i,:],y[j,:])  for j in range(y.shape[0])]).reshape(1,-1)\n",
    "        return y_matrix\n",
    "    \n",
    "def grad_matrix_y2(y):\n",
    "        grad_matrix=np.zeros((y.shape[0],y.shape[0],dimension))\n",
    "        for i in range(y.shape[0]):\n",
    "            for j in range(y.shape[0]):\n",
    "                grad_matrix[i,j,:]=kernel_grad2(y[i,:],y[j,:])\n",
    "        return grad_matrix\n",
    "                \n",
    "        \n",
    "        \n",
    "        \n",
    "        \n",
    "#AHORA DEFINO LAGRANGIANO Y SU GRADIENTE                \n",
    "def lagrangiano(y,x,landa,kernel_matrix,C): \n",
    "    cost=fermat_cost(y.flatten(),x,dimension,f_dist,tree,data,k,alpha)[0]\n",
    "    #cost=euclidean_cost(y.flatten(),x)[0]\n",
    "    return  cost+ landa * (kernel_matrix.flatten() @ C.flatten().T)\n",
    "#el lagrangiano es: sum_i[ cost(x_i,y_i)+ sum_k[landa*kernel(y_i,y_k)*C_il]   ]\n",
    "    \n",
    "    \n",
    "# derivo en y_i\n",
    "def lagrangiano_grad(y,x,landa,grad_matrix,C):\n",
    "    dimension=y.shape[1]\n",
    "    aux=np.zeros(y.shape).flatten()\n",
    "    for i in range (y.shape[0]):\n",
    "        local_grad=C[i,:]@grad_matrix[i,:,:]\n",
    "        aux[i*dimension:(i+1)*dimension]= local_grad\n",
    "        \n",
    "    cost_grad=fermat_cost(y.flatten(),x,dimension,f_dist,tree,data,k,alpha)[1]\n",
    "    #cost_grad=euclidean_cost(y.flatten(),x)[1]\n",
    "    return cost_grad+landa*aux"
   ]
  },
  {
   "cell_type": "markdown",
   "metadata": {},
   "source": [
    "### Tratando de paralelizar asi no es una tortuga (lo hago principalmente con lo de los kernels y su gradiente que es una cuenta que hago mucho y grande)"
   ]
  },
  {
   "cell_type": "code",
   "execution_count": 314,
   "metadata": {},
   "outputs": [],
   "source": [
    "import scipy\n",
    "from scipy.spatial.distance import pdist, squareform\n",
    "\n",
    "#matriz que tieneen el lugar ij al kernel(y_i,y_j) \n",
    "def kernel_matrix_y(y):\n",
    "    pairwise_dists = squareform(pdist(y, 'euclidean'))\n",
    "    return scipy.exp( -pairwise_dists**2/(2*(h**2))) / (np.sqrt( (2*np.pi)**dimension) )\n",
    "    \n",
    "    \n",
    "\n",
    "    \n",
    "def grad_matrix_y(y):\n",
    "    pairwise_dists=squareform(pdist(y,'euclidean'))\n",
    "    #armo la matriz que tiene el escalar por el que multiplico a la direccion\n",
    "    aux=scipy.exp( -pairwise_dists**2/(2*(h**2))) / (np.sqrt( (2*np.pi)**dimension))\n",
    "    aux=aux*(-1/(h**2))\n",
    "    \n",
    "    unos=np.ones((y.shape[0],1))\n",
    "    res=np.zeros((y.shape[0],y.shape[0],dimension))\n",
    "    for d in range(dimension):\n",
    "        res[:,:,d]=(y[:,d].reshape(-1,1)) @unos.T -  unos @ (y[:,d].reshape(-1,1)).T  \n",
    "        res[:,:,d]=res[:,:,d]*aux\n",
    "    return res\n",
    "       "
   ]
  },
  {
   "cell_type": "code",
   "execution_count": 315,
   "metadata": {},
   "outputs": [
    {
     "name": "stdout",
     "output_type": "stream",
     "text": [
      "CPU times: user 120 ms, sys: 24 ms, total: 144 ms\n",
      "Wall time: 146 ms\n"
     ]
    }
   ],
   "source": [
    "%%time\n",
    "y=np.random.random((300,dimension))\n",
    "asd=kernel_matrix_y(y)\n",
    "asdd=grad_matrix_y(y)"
   ]
  },
  {
   "cell_type": "code",
   "execution_count": 316,
   "metadata": {},
   "outputs": [
    {
     "name": "stdout",
     "output_type": "stream",
     "text": [
      "CPU times: user 47.2 s, sys: 308 ms, total: 47.5 s\n",
      "Wall time: 47.9 s\n"
     ]
    }
   ],
   "source": [
    "%%time \n",
    "\n",
    "asd2=kernel_matrix_y2(y)\n",
    "asdd2=grad_matrix_y2(y)"
   ]
  },
  {
   "cell_type": "code",
   "execution_count": 317,
   "metadata": {},
   "outputs": [
    {
     "name": "stdout",
     "output_type": "stream",
     "text": [
      "True True\n"
     ]
    }
   ],
   "source": [
    "print(np.alltrue(asd2-asd<1e19),np.alltrue(asdd2-asdd<1e19))\n"
   ]
  },
  {
   "cell_type": "markdown",
   "metadata": {},
   "source": [
    "### El algoritmo que proponen (falta poner bien la formula del landamin que no la hice aun, ver que seria un buen beta y un buen landamax -ademas de una learningrate inicial y un h (el bandwith) inicial-)"
   ]
  },
  {
   "cell_type": "code",
   "execution_count": 319,
   "metadata": {},
   "outputs": [
    {
     "name": "stdout",
     "output_type": "stream",
     "text": [
      "iteracion: 0  tamaño paso 7.913824431930785e-10 landa 0.002\n",
      "iteracion: 1  tamaño paso 3.9766891928168135e-10 landa 0.004\n",
      "iteracion: 2  tamaño paso 3.9965745353359776e-10 landa 0.008\n",
      "iteracion: 3  tamaño paso 8.033118637627913e-10 landa 0.016\n",
      "iteracion: 4  tamaño paso 8.073286142560847e-10 landa 0.032\n",
      "iteracion: 5  tamaño paso 1.6227309023142345e-09 landa 0.064\n",
      "iteracion: 6  tamaño paso 1.63084475108687e-09 landa 0.128\n",
      "iteracion: 7  tamaño paso 3.2779983448461585e-09 landa 0.256\n",
      "iteracion: 8  tamaño paso 3.2943885359794088e-09 landa 0.512\n",
      "iteracion: 9  tamaño paso 6.621721363559337e-09 landa 1.024\n",
      "iteracion: 10  tamaño paso 6.654830181038298e-09 landa 2.048\n",
      "iteracion: 11  tamaño paso 1.3376209093242129e-08 landa 4.096\n",
      "iteracion: 12  tamaño paso 1.3443090384244609e-08 landa 8.192\n",
      "iteracion: 13  tamaño paso 2.7020612172372273e-08 landa 16.384\n",
      "iteracion: 14  tamaño paso 2.715571560926863e-08 landa 32.768\n",
      "iteracion: 15  tamaño paso 5.458298913844543e-08 landa 65.536\n",
      "iteracion: 16  tamaño paso 5.485590498035455e-08 landa 131.072\n",
      "iteracion: 17  tamaño paso 1.1026037082524798e-07 landa 262.144\n",
      "iteracion: 18  tamaño paso 1.1081167568553082e-07 landa 524.288\n",
      "iteracion: 19  tamaño paso 2.2273147420494368e-07 landa 1048.576\n",
      "iteracion: 20  tamaño paso 2.23845143178904e-07 landa 2097.152\n",
      "iteracion: 21  tamaño paso 4.4992876123264656e-07 landa 4194.304\n",
      "iteracion: 22  tamaño paso 4.5217845170843184e-07 landa 8388.608\n",
      "iteracion: 23  tamaño paso 9.088787822135499e-07 landa 16777.216\n",
      "iteracion: 24  tamaño paso 9.134233658737695e-07 landa 33554.432\n",
      "iteracion: 25  tamaño paso 9.179906743568705e-07 landa 67108.864\n",
      "iteracion: 26  tamaño paso 1.8451616424893128e-06 landa 134217.728\n",
      "iteracion: 27  tamaño paso 3.708776463967476e-06 landa 268435.456\n",
      "iteracion: 28  tamaño paso 3.7273235021996073e-06 landa 536870.912\n",
      "iteracion: 29  tamaño paso 7.4919266145862785e-06 landa 1073741.824\n",
      "iteracion: 30  tamaño paso 7.529399125147181e-06 landa 2147483.648\n",
      "iteracion: 31  tamaño paso 7.567059127364191e-06 landa 4294967.296\n",
      "iteracion: 32  tamaño paso 1.520981511983329e-05 landa 8589934.592\n",
      "iteracion: 33  tamaño paso 3.057183453842654e-05 landa 17179869.184\n",
      "iteracion: 34  tamaño paso 3.0724908132968306e-05 landa 34359738.368\n",
      "iteracion: 35  tamaño paso 3.087874924430134e-05 landa 68719476.736\n",
      "iteracion: 36  tamaño paso 6.206672346290609e-05 landa 137438953.472\n",
      "iteracion: 37  tamaño paso 0.0001247558816134296 landa 274877906.944\n",
      "iteracion: 38  tamaño paso 0.0001253832312978059 landa 549755813.888\n",
      "iteracion: 39  tamaño paso 0.0001260137534682697 landa 1099511627.776\n",
      "iteracion: 40  tamaño paso 0.0002532949286891875 landa 2199023255.552\n",
      "iteracion: 41  tamaño paso 0.0005091522345188897 landa 4398046511.104\n",
      "iteracion: 42  tamaño paso 0.0005117574369011377 landa 8796093022.208\n",
      "iteracion: 43  tamaño paso 0.0005143762574894746 landa 17592186044.416\n",
      "iteracion: 44  tamaño paso 0.0010340175405030157 landa 35184372088.832\n",
      "iteracion: 45  tamaño paso 0.002078865094985867 landa 70368744177.664\n",
      "iteracion: 46  tamaño paso 0.002090248610493431 landa 140737488355.328\n",
      "iteracion: 47  tamaño paso 0.0021016987064266888 landa 281474976710.656\n",
      "iteracion: 48  tamaño paso 0.004226431615116117 landa 562949953421.312\n",
      "iteracion: 49  tamaño paso 0.004251636050065491 landa 1125899906842.624\n",
      "iteracion: 50  tamaño paso 0.008554010342961403 landa 2251799813685.248\n",
      "iteracion: 51  tamaño paso 0.017226734770299484 landa 4503599627370.496\n",
      "iteracion: 52  tamaño paso 0.01737970436701111 landa 9007199254740.992\n",
      "iteracion: 53  tamaño paso 0.017533955854108503 landa 18014398509481.984\n",
      "iteracion: 54  tamaño paso 0.03537898622176979 landa 36028797018963.97\n",
      "iteracion: 55  tamaño paso 0.03582850577173644 landa 72057594037927.94\n",
      "iteracion: 56  tamaño paso 0.07256311416830948 landa 144115188075855.88\n",
      "iteracion: 57  tamaño paso 0.07401871963655643 landa 288230376151711.75\n",
      "iteracion: 58  tamaño paso 0.150957151321624 landa 576460752303423.5\n",
      "iteracion: 59  tamaño paso 0.311971894024317 landa 1152921504606847.0\n",
      "iteracion: 60  tamaño paso 0.32964784229830135 landa 2305843009213694.0\n",
      "iteracion: 61  tamaño paso 0.34607690562706 landa 4611686018427388.0\n",
      "iteracion: 62  tamaño paso 0.7218225151733516 landa 9223372036854776.0\n",
      "iteracion: 63  tamaño paso 0.7647870673510974 landa 1.844674407370955e+16\n",
      "iteracion: 64  tamaño paso 1.5808053174420735 landa 3.68934881474191e+16\n",
      "iteracion: 65  tamaño paso 1.575202680761383 landa 7.37869762948382e+16\n",
      "iteracion: 66  tamaño paso 0.740562436481938 landa 1.475739525896764e+17\n",
      "iteracion: 67  tamaño paso 2.8490851128805947 landa 2.951479051793528e+17\n",
      "iteracion: 68  tamaño paso 1.1091387800777435 landa 5.902958103587057e+17\n",
      "iteracion: 69  tamaño paso 1.9148386198036602 landa 1152921504606846976\n",
      "iteracion: 70  tamaño paso 2.9418296680908287 landa 1152921504606846976\n",
      "iteracion: 71  tamaño paso 1.8222685247116945 landa 1152921504606846976\n",
      "iteracion: 72  tamaño paso 2.71039334443145 landa 1152921504606846976\n",
      "iteracion: 73  tamaño paso 0.809558233714985 landa 1152921504606846976\n",
      "iteracion: 74  tamaño paso 0.3441054852322114 landa 1152921504606846976\n",
      "iteracion: 75  tamaño paso 0.16121162531879196 landa 1152921504606846976\n",
      "iteracion: 76  tamaño paso 0.07841887336739471 landa 1152921504606846976\n",
      "iteracion: 77  tamaño paso 0.038790820136692813 landa 1152921504606846976\n",
      "iteracion: 78  tamaño paso 0.009670895819270052 landa 1152921504606846976\n",
      "iteracion: 79  tamaño paso 0.01940103077134949 landa 1152921504606846976\n",
      "iteracion: 80  tamaño paso 0.03884528844651849 landa 1152921504606846976\n",
      "iteracion: 81  tamaño paso 0.07747468467630758 landa 1152921504606846976\n",
      "iteracion: 82  tamaño paso 0.15332135523829887 landa 1152921504606846976\n",
      "iteracion: 83  tamaño paso 0.29877723614526275 landa 1152921504606846976\n",
      "iteracion: 84  tamaño paso 0.5649635281419584 landa 1152921504606846976\n",
      "iteracion: 85  tamaño paso 1.0093955707679498 landa 1152921504606846976\n",
      "iteracion: 86  tamaño paso 0.408449202242165 landa 1152921504606846976\n",
      "iteracion: 87  tamaño paso 0.7557525817904005 landa 1152921504606846976\n",
      "iteracion: 88  tamaño paso 0.6481612479928646 landa 1152921504606846976\n",
      "iteracion: 89  tamaño paso 0.14306998620031824 landa 1152921504606846976\n",
      "iteracion: 90  tamaño paso 0.03502834750298438 landa 1152921504606846976\n",
      "iteracion: 91  tamaño paso 0.01749278057594315 landa 1152921504606846976\n",
      "iteracion: 92  tamaño paso 0.008763004255951841 landa 1152921504606846976\n",
      "iteracion: 93  tamaño paso 0.004396611110143834 landa 1152921504606846976\n",
      "iteracion: 94  tamaño paso 0.002207586537386757 landa 1152921504606846976\n",
      "iteracion: 95  tamaño paso 0.0011088810835869834 landa 1152921504606846976\n",
      "iteracion: 96  tamaño paso 0.0011142079473680125 landa 1152921504606846976\n",
      "iteracion: 97  tamaño paso 0.0022391187228668046 landa 1152921504606846976\n",
      "iteracion: 98  tamaño paso 0.004498854764817811 landa 1152921504606846976\n",
      "iteracion: 99  tamaño paso 0.009035537562289777 landa 1152921504606846976\n",
      "iteracion: 100  tamaño paso 0.01813255058334864 landa 1152921504606846976\n",
      "iteracion: 101  tamaño paso 0.036330146289090585 landa 1152921504606846976\n",
      "iteracion: 102  tamaño paso 0.07255699058698137 landa 1152921504606846976\n",
      "iteracion: 103  tamaño paso 0.14397950726644582 landa 1152921504606846976\n",
      "iteracion: 104  tamaño paso 0.28207553327659957 landa 1152921504606846976\n",
      "iteracion: 105  tamaño paso 0.5387472067187257 landa 1152921504606846976\n",
      "iteracion: 106  tamaño paso 0.24429212492024482 landa 1152921504606846976\n",
      "iteracion: 107  tamaño paso 0.1170152352047644 landa 1152921504606846976\n",
      "iteracion: 108  tamaño paso 0.00044864299381552306 landa 1152921504606846976\n",
      "iteracion: 109  tamaño paso 0.0009016902473433569 landa 1152921504606846976\n",
      "iteracion: 110  tamaño paso 0.0018120654266708803 landa 1152921504606846976\n",
      "iteracion: 111  tamaño paso 0.0036409103578924715 landa 1152921504606846976\n",
      "iteracion: 112  tamaño paso 0.007312811801111088 landa 1152921504606846976\n",
      "iteracion: 113  tamaño paso 0.01467686533556938 landa 1152921504606846976\n",
      "iteracion: 114  tamaño paso 0.029412100464100747 landa 1152921504606846976\n",
      "iteracion: 115  tamaño paso 0.058761385261125065 landa 1152921504606846976\n",
      "iteracion: 116  tamaño paso 0.11667008214202287 landa 1152921504606846976\n",
      "iteracion: 117  tamaño paso 0.2287040453071205 landa 1152921504606846976\n"
     ]
    },
    {
     "name": "stdout",
     "output_type": "stream",
     "text": [
      "iteracion: 118  tamaño paso 0.2182084497246454 landa 1152921504606846976\n",
      "iteracion: 119  tamaño paso 0.10400101426897676 landa 1152921504606846976\n",
      "iteracion: 120  tamaño paso 0.05090444883864711 landa 1152921504606846976\n",
      "iteracion: 121  tamaño paso 0.012622693491744713 landa 1152921504606846976\n",
      "iteracion: 122  tamaño paso 0.0031610470756220947 landa 1152921504606846976\n",
      "iteracion: 123  tamaño paso 0.0007935584552011112 landa 1152921504606846976\n",
      "iteracion: 124  tamaño paso 2.491753404272427e-05 landa 1152921504606846976\n",
      "iteracion: 125  tamaño paso 6.260489711455857e-06 landa 1152921504606846976\n",
      "iteracion: 126  tamaño paso 1.5729454697099609e-06 landa 1152921504606846976\n",
      "iteracion: 127  tamaño paso 3.9520238701111415e-07 landa 1152921504606846976\n",
      "iteracion: 128  tamaño paso 4.964729474702009e-08 landa 1152921504606846976\n",
      "iteracion: 129  tamaño paso 6.236941321772661e-09 landa 1152921504606846976\n",
      "iteracion: 130  tamaño paso 3.134063009088764e-09 landa 1152921504606846976\n",
      "iteracion: 131  tamaño paso 1.5748666607788172e-09 landa 1152921504606846976\n",
      "iteracion: 132  tamaño paso 7.913704967160552e-10 landa 1152921504606846976\n",
      "iteracion: 133  tamaño paso 3.976636745176773e-10 landa 1152921504606846976\n",
      "iteracion: 134  tamaño paso 9.991299821219591e-11 landa 1152921504606846976\n",
      "iteracion: 135  tamaño paso 5.0206281600319155e-11 landa 1152921504606846976\n",
      "iteracion: 136  tamaño paso 1.261432825191488e-11 landa 1152921504606846976\n",
      "iteracion: 137  tamaño paso 6.338699946566355e-12 landa 1152921504606846976\n",
      "iteracion: 138  tamaño paso 1.5925983615721614e-12 landa 1152921504606846976\n",
      "iteracion: 139  tamaño paso 8.002806766896783e-13 landa 1152921504606846976\n",
      "iteracion: 140  tamaño paso 4.0214104003647936e-13 landa 1152921504606846976\n",
      "iteracion: 141  tamaño paso 5.0518968154577407e-14 landa 1152921504606846976\n",
      "iteracion: 142  tamaño paso 1.2692890748837405e-14 landa 1152921504606846976\n",
      "iteracion: 143  tamaño paso 6.378177601290774e-15 landa 1152921504606846976\n",
      "iteracion: 144  tamaño paso 2.0031464029053806e-16 landa 1152921504606846976\n",
      "iteracion: 145  tamaño paso 2.0131621349199072e-16 landa 1152921504606846976\n",
      "iteracion: 146  tamaño paso 2.0232279455945064e-16 landa 1152921504606846976\n",
      "iteracion: 147  tamaño paso 2.0333440853224788e-16 landa 1152921504606846976\n",
      "iteracion: 148  tamaño paso 2.043510805749091e-16 landa 1152921504606846976\n",
      "iteracion: 149  tamaño paso 2.0537283597778363e-16 landa 1152921504606846976\n",
      "iteracion: 150  tamaño paso 2.063997001576725e-16 landa 1152921504606846976\n",
      "iteracion: 151  tamaño paso 2.0743169865846084e-16 landa 1152921504606846976\n",
      "iteracion: 152  tamaño paso 2.084688571517531e-16 landa 1152921504606846976\n",
      "iteracion: 153  tamaño paso 2.0951120143751183e-16 landa 1152921504606846976\n",
      "iteracion: 154  tamaño paso 2.1055875744469939e-16 landa 1152921504606846976\n",
      "iteracion: 155  tamaño paso 2.1161155123192285e-16 landa 1152921504606846976\n",
      "iteracion: 156  tamaño paso 2.1266960898808245e-16 landa 1152921504606846976\n",
      "iteracion: 157  tamaño paso 2.1373295703302283e-16 landa 1152921504606846976\n",
      "iteracion: 158  tamaño paso 2.1480162181818793e-16 landa 1152921504606846976\n",
      "iteracion: 159  tamaño paso 2.1587562992727883e-16 landa 1152921504606846976\n",
      "iteracion: 160  tamaño paso 2.1695500807691517e-16 landa 1152921504606846976\n",
      "iteracion: 161  tamaño paso 2.1803978311729974e-16 landa 1152921504606846976\n",
      "iteracion: 162  tamaño paso 2.1912998203288622e-16 landa 1152921504606846976\n",
      "iteracion: 163  tamaño paso 2.2022563194305065e-16 landa 1152921504606846976\n",
      "iteracion: 164  tamaño paso 2.2132676010276585e-16 landa 1152921504606846976\n",
      "iteracion: 165  tamaño paso 2.224333939032797e-16 landa 1152921504606846976\n",
      "iteracion: 166  tamaño paso 2.2354556087279606e-16 landa 1152921504606846976\n",
      "iteracion: 167  tamaño paso 2.2466328867716e-16 landa 1152921504606846976\n",
      "iteracion: 168  tamaño paso 2.2578660512054577e-16 landa 1152921504606846976\n",
      "iteracion: 169  tamaño paso 2.2691553814614844e-16 landa 1152921504606846976\n",
      "iteracion: 170  tamaño paso 2.2805011583687917e-16 landa 1152921504606846976\n",
      "iteracion: 171  tamaño paso 2.2919036641606357e-16 landa 1152921504606846976\n",
      "iteracion: 172  tamaño paso 2.3033631824814383e-16 landa 1152921504606846976\n",
      "iteracion: 173  tamaño paso 2.314879998393845e-16 landa 1152921504606846976\n",
      "iteracion: 174  tamaño paso 2.3264543983858143e-16 landa 1152921504606846976\n",
      "iteracion: 175  tamaño paso 2.3380866703777434e-16 landa 1152921504606846976\n",
      "iteracion: 176  tamaño paso 2.3497771037296317e-16 landa 1152921504606846976\n",
      "iteracion: 177  tamaño paso 2.361525989248279e-16 landa 1152921504606846976\n",
      "iteracion: 178  tamaño paso 2.3733336191945205e-16 landa 1152921504606846976\n",
      "iteracion: 179  tamaño paso 2.3852002872904926e-16 landa 1152921504606846976\n",
      "iteracion: 180  tamaño paso 2.3971262887269447e-16 landa 1152921504606846976\n",
      "iteracion: 181  tamaño paso 2.409111920170579e-16 landa 1152921504606846976\n",
      "iteracion: 182  tamaño paso 2.421157479771432e-16 landa 1152921504606846976\n",
      "iteracion: 183  tamaño paso 2.433263267170289e-16 landa 1152921504606846976\n",
      "iteracion: 184  tamaño paso 2.44542958350614e-16 landa 1152921504606846976\n",
      "iteracion: 185  tamaño paso 2.4576567314236706e-16 landa 1152921504606846976\n",
      "iteracion: 186  tamaño paso 2.469945015080789e-16 landa 1152921504606846976\n",
      "iteracion: 187  tamaño paso 2.4822947401561927e-16 landa 1152921504606846976\n",
      "iteracion: 188  tamaño paso 2.494706213856973e-16 landa 1152921504606846976\n",
      "iteracion: 189  tamaño paso 2.507179744926258e-16 landa 1152921504606846976\n",
      "iteracion: 190  tamaño paso 2.5197156436508884e-16 landa 1152921504606846976\n",
      "iteracion: 191  tamaño paso 2.5323142218691424e-16 landa 1152921504606846976\n",
      "iteracion: 192  tamaño paso 2.544975792978488e-16 landa 1152921504606846976\n",
      "iteracion: 193  tamaño paso 2.55770067194338e-16 landa 1152921504606846976\n",
      "iteracion: 194  tamaño paso 2.5704891753030967e-16 landa 1152921504606846976\n",
      "iteracion: 195  tamaño paso 2.5833416211796116e-16 landa 1152921504606846976\n",
      "iteracion: 196  tamaño paso 2.5962583292855096e-16 landa 1152921504606846976\n",
      "iteracion: 197  tamaño paso 2.6092396209319364e-16 landa 1152921504606846976\n",
      "iteracion: 198  tamaño paso 2.622285819036596e-16 landa 1152921504606846976\n",
      "iteracion: 199  tamaño paso 2.6353972481317786e-16 landa 1152921504606846976\n"
     ]
    }
   ],
   "source": [
    "#x va a ser los puntos iniciales (distintas distribuciones)\n",
    "#y van a ser los transportados (baricentro)\n",
    "\n",
    "\n",
    "#COMO ELIJO LANDA0, LEARNINGRATE0, LANDAMAX,BETA ?\n",
    "y=x\n",
    "niter=200\n",
    "learningrate0=1\n",
    "beta=0.01  #es el alpha que pone tabak\n",
    "landamax=2**60 #TODO\n",
    "landa0=0.001 #TODO\n",
    "\n",
    "\n",
    "\n",
    "C=armar_C_categorico(z) #EN Z PONGO FILA A FILA LOS DISTINTOS VALORES DE Z\n",
    "landa=landa0\n",
    "learningrate=learningrate0\n",
    "n=0\n",
    "\n",
    "while (n<niter):\n",
    "    learningrate=min(learningrate*2.01,learningrate0)\n",
    "    \n",
    "    landamin=landa*2#beta-1#TODO la cuentaza\n",
    "    \n",
    "    \n",
    "    if(landamin>landa and landamin<landamax): \n",
    "        landa=landamin\n",
    "    elif(landamin>landamax): \n",
    "        landa=landamax\n",
    "    \n",
    "    \n",
    "    grad_matrix=grad_matrix_y(y)\n",
    "    gradienteLagrangiano=lagrangiano_grad(y,x,landa,grad_matrix,C)\n",
    "    yviejo=y\n",
    "    \n",
    "    while(True):\n",
    "        y=(yviejo.flatten()-(learningrate*gradienteLagrangiano)).reshape(yviejo.shape)        \n",
    "        kernel_matrix=kernel_matrix_y(y)                                                                              \n",
    "        if(lagrangiano(y,x,landa,kernel_matrix,C)<=lagrangiano(yviejo,x,landa,kernel_matrix,C)): \n",
    "            break\n",
    "        learningrate=learningrate/2       \n",
    "    #tiro un callback aca.\n",
    "    print(\"iteracion: \"+str(n)+\"  tamaño paso \"+str(learningrate*np.linalg.norm(gradienteLagrangiano))+\" landa \"+str(landa))\n",
    "    n=n+1       "
   ]
  },
  {
   "cell_type": "markdown",
   "metadata": {},
   "source": [
    "Veamos que quedo.... Rojo y azul son las dos distribuciones, amarillo los puntos de la superficie. En cruces verdes vemos el resultado del algoritmo."
   ]
  },
  {
   "cell_type": "code",
   "execution_count": 320,
   "metadata": {},
   "outputs": [
    {
     "data": {
      "image/png": "[encoded data removed]",
      "text/plain": [
       "<Figure size 432x288 with 1 Axes>"
      ]
     },
     "metadata": {
      "needs_background": "light"
     },
     "output_type": "display_data"
    }
   ],
   "source": [
    "\n",
    "plt.plot(W[:,0],W[:,1],'.',c='y')\n",
    "plt.plot(x1,x2,'.',c='r')\n",
    "plt.plot(y1,y2,'.',c='b')\n",
    "plt.plot(y[:,0],y[:,1],'x',c='g')\n",
    "plt.axis('equal')\n",
    "plt.title('Rojo es una distribucion, azul otra y amarillo es la superficie.')\n",
    "plt.show()"
   ]
  },
  {
   "cell_type": "markdown",
   "metadata": {},
   "source": [
    "### Pesimo"
   ]
  },
  {
   "cell_type": "code",
   "execution_count": null,
   "metadata": {},
   "outputs": [],
   "source": []
  },
  {
   "cell_type": "code",
   "execution_count": null,
   "metadata": {},
   "outputs": [],
   "source": []
  },
  {
   "cell_type": "code",
   "execution_count": null,
   "metadata": {},
   "outputs": [],
   "source": []
  },
  {
   "cell_type": "code",
   "execution_count": null,
   "metadata": {
    "collapsed": true
   },
   "outputs": [],
   "source": []
  },
  {
   "cell_type": "code",
   "execution_count": null,
   "metadata": {
    "collapsed": true
   },
   "outputs": [],
   "source": []
  },
  {
   "cell_type": "code",
   "execution_count": null,
   "metadata": {
    "collapsed": true
   },
   "outputs": [],
   "source": []
  },
  {
   "cell_type": "code",
   "execution_count": null,
   "metadata": {
    "collapsed": true
   },
   "outputs": [],
   "source": []
  },
  {
   "cell_type": "code",
   "execution_count": null,
   "metadata": {
    "collapsed": true
   },
   "outputs": [],
   "source": []
  },
  {
   "cell_type": "code",
   "execution_count": null,
   "metadata": {
    "collapsed": true
   },
   "outputs": [],
   "source": []
  },
  {
   "cell_type": "code",
   "execution_count": null,
   "metadata": {
    "collapsed": true
   },
   "outputs": [],
   "source": []
  },
  {
   "cell_type": "code",
   "execution_count": null,
   "metadata": {
    "collapsed": true
   },
   "outputs": [],
   "source": []
  },
  {
   "cell_type": "code",
   "execution_count": null,
   "metadata": {
    "collapsed": true
   },
   "outputs": [],
   "source": []
  },
  {
   "cell_type": "code",
   "execution_count": null,
   "metadata": {
    "collapsed": true
   },
   "outputs": [],
   "source": []
  },
  {
   "cell_type": "markdown",
   "metadata": {},
   "source": [
    "Un fiasco esta fromfunction..."
   ]
  },
  {
   "cell_type": "code",
   "execution_count": 154,
   "metadata": {
    "collapsed": true
   },
   "outputs": [],
   "source": [
    "def kernel_matrix_y(y):\n",
    "    def fu(i,j):\n",
    "        return kernel(y[i,:],y[j,:])\n",
    "    f=np.vectorize(fu)\n",
    "    return np.fromfunction(f,(y.shape[0],y.shape[0]),dtype=int)  \n",
    "    \n",
    "    \n",
    "def grad_matrix_y(y):\n",
    "    def fu2(i,j,d):\n",
    "        return kernel_grad(y[i,:],y[j,:])[d]\n",
    "    f2=np.vectorize(fu2)\n",
    "    return np.fromfunction(f2,(y.shape[0],y.shape[0],dimension),dtype=int)  "
   ]
  }
 ],
 "metadata": {
  "kernelspec": {
   "display_name": "Python 3",
   "language": "python",
   "name": "python3"
  },
  "language_info": {
   "codemirror_mode": {
    "name": "ipython",
    "version": 3
   },
   "file_extension": ".py",
   "mimetype": "text/x-python",
   "name": "python",
   "nbconvert_exporter": "python",
   "pygments_lexer": "ipython3",
   "version": "3.5.2"
  }
 },
 "nbformat": 4,
 "nbformat_minor": 2
}
