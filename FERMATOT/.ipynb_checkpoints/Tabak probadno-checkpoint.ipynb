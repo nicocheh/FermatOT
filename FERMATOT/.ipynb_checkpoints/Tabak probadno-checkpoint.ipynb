{
 "cells": [
  {
   "cell_type": "code",
   "execution_count": 554,
   "metadata": {
    "collapsed": true
   },
   "outputs": [],
   "source": [
    "import fermat as F\n",
    "import numpy as np\n",
    "import scipy.sparse as sp\n",
    "import time\n",
    "from scipy.spatial import  distance_matrix\n",
    "from sklearn.manifold import TSNE\n",
    "from scipy.optimize import minimize\n",
    "from sklearn.neighbors import KDTree\n",
    "from scipy.optimize import LinearConstraint\n",
    "from scipy.sparse import csr_matrix\n",
    "\n",
    "\n",
    "from mpl_toolkits.mplot3d import Axes3D\n",
    "import matplotlib.pyplot as plt"
   ]
  },
  {
   "cell_type": "markdown",
   "metadata": {},
   "source": [
    "importe lo necesario y armo las funciones que me dicen el costo de transportar una serie de puntos con fermat dada la matriz de distancias de fermat (lo que usaba en transporte optimo antes), tambien hago su gradiente y pruebo"
   ]
  },
  {
   "cell_type": "code",
   "execution_count": 555,
   "metadata": {
    "collapsed": true
   },
   "outputs": [],
   "source": [
    "#Builds fermat graph given data, alpha, method (and if 'D' is chosen with k_fermat neighbours)\n",
    "#RETURNS: fermat distance matrix between points of data and a KD-Tree \n",
    "\n",
    "\n",
    "def fermat_graph(data,alpha,method='FW',k_fermat=30):\n",
    "    model=F.Fermat(alpha, path_method=method,k=k_fermat)\n",
    "    model.fit(np.matrix(distance_matrix(data,data)))\n",
    "    fermat_distances = model.get_distances()\n",
    "    tree = KDTree(data, leaf_size=2)\n",
    "    return fermat_distances,tree\n",
    "              \n",
    "\n",
    "#Computes fermat_cost of transporting initialData to x with the given fermat_distances\n",
    "#initial data will be points\n",
    "\n",
    "#It uses the KD-Tree built with fermat_graph() as well as a parameter 'k' which is \n",
    "#the amount of neighbours to look at when getting the fermat distance for a point that\n",
    "#is not in the graph (including it may be computationally expensive)\n",
    "#It also recieves the original data and the alpha used to build fermat_distances\n",
    "              \n",
    "#RETURNS: fermat cost and gradient of that cost\n",
    "def fermat_cost(x,initialData,dimension,fermat_distances,tree,data,k,alpha):\n",
    "    assert(len(x)==(initialData.shape[0])*dimension)\n",
    "    real_x=x.reshape(-1,dimension)     \n",
    "    res=0\n",
    "    gradient=np.zeros(x.shape)\n",
    "    for i in range(initialData.shape[0]):\n",
    "        dist,grad_idx=fermat_dist(initialData[i,:],real_x[i,:],fermat_distances,tree,k,alpha) \n",
    "        q=data[grad_idx,:] \n",
    "        local_grad=alpha*(np.linalg.norm(q-real_x[i,:])**(alpha-2))*(real_x[i,:]-q)\n",
    "        \n",
    "        res+=dist                      \n",
    "        gradient[dimension*i:dimension*(i+1)]=local_grad\n",
    "    return res,gradient\n",
    "\n",
    "\n",
    "#Computes fermat distance between start  and end using fermat_distances\n",
    "              \n",
    "#it also recieves the KD-tree, numbre of neighbours to look at, and alpha used in fermat\n",
    "              \n",
    "#RETURNS: fermat distance between start and end, as well as the index of the k-nearest neighbour\n",
    "#of end with smallest fermat distance to start\n",
    "def fermat_dist(start,end,fermat_distances,tree,k,alpha):\n",
    "    \n",
    "    start_euclid_dist,start_ind=tree.query([start],k=1)\n",
    "    idx=start_ind[0,0]\n",
    "    start_euclid_dist=np.power(start_euclid_dist,alpha)\n",
    "    \n",
    "    end_euclid_dist,end_ind=tree.query([end],k=k)\n",
    "    end_euclid_dist=np.power(end_euclid_dist,alpha)\n",
    "        \n",
    "    dist=min([ fermat_distances[idx,end_ind[0,i]]+end_euclid_dist[0,i] for i in range(end_euclid_dist.shape[1])])\n",
    "    \n",
    "    minim=np.argmin([ fermat_distances[idx,end_ind[0,i]] for i in range(end_ind.shape[1])]) \n",
    "    grad_idx=end_ind[0,minim] #index of k-nearest neighbour with smallest fermat_distance to idx.\n",
    "    \n",
    "    return dist+start_euclid_dist[0,0],grad_idx\n",
    "              \n",
    "\n",
    "#Here initialData are the points, and x the trasnportation of those\n",
    "##UNUSED\n",
    "def euclidean_cost(x,initialData):\n",
    "    dim=initialData.shape[1]\n",
    "    assert(initialData.shape[0]*dim==len(x))\n",
    "    real_x=x.reshape(-1,dim)\n",
    "    res=0\n",
    "    gradient=np.zeros(x.shape)\n",
    "    for i in range(initialData.shape[0]):\n",
    "        res+=np.linalg.norm(initialData[i,:]-real_x[i,:])**2\n",
    "        local_gradient=2*(real_x[i,:]-initialData[i,:])\n",
    "        gradient[dimension*i:(i+1)*dimension]=local_gradient\n",
    "    return res,gradient\n"
   ]
  },
  {
   "cell_type": "markdown",
   "metadata": {},
   "source": [
    "un ejemplito"
   ]
  },
  {
   "cell_type": "code",
   "execution_count": 556,
   "metadata": {},
   "outputs": [
    {
     "name": "stdout",
     "output_type": "stream",
     "text": [
      "(8.372116863723326, array([1.85837232, 1.88283354, 0.72128483, 1.82453753, 0.6802669 ,\n",
      "       1.71074397, 1.54228028, 1.64683361, 0.67866748, 1.07195456,\n",
      "       1.47805551, 1.7834405 , 1.5393068 , 1.36717836, 0.97855848,\n",
      "       1.41044966]))\n"
     ]
    },
    {
     "data": {
      "text/plain": [
       "(3.494513944700001,\n",
       " array([0.67866748, 1.07195456, 0.67866748, 1.07195456, 0.67866748,\n",
       "        1.07195456, 0.67866748, 1.07195456, 0.67866748, 1.07195456,\n",
       "        0.67866748, 1.07195456, 0.67866748, 1.07195456, 0.67866748,\n",
       "        1.07195456]))"
      ]
     },
     "execution_count": 556,
     "metadata": {},
     "output_type": "execute_result"
    }
   ],
   "source": [
    "data=np.random.random((10,2))\n",
    "\n",
    "x=np.ones(16)\n",
    "\n",
    "##Euclidean\n",
    "print(euclidean_cost(x,data[0:8,:]))\n",
    "\n",
    "##Fermat\n",
    "\n",
    "initialData=data[0:8,:]\n",
    "dimension=2\n",
    "alpha=2\n",
    "k=2\n",
    "f_dist,tree=fermat_graph(data,alpha=alpha)\n",
    "\n",
    "\n",
    "fermat_cost(x,initialData,dimension,f_dist,tree,data,k,alpha)"
   ]
  },
  {
   "cell_type": "markdown",
   "metadata": {},
   "source": [
    "Armo aca los datos que podrian servir para al menos probar que ande"
   ]
  },
  {
   "cell_type": "code",
   "execution_count": 557,
   "metadata": {},
   "outputs": [
    {
     "data": {
      "image/png": "[encoded data removed]",
      "text/plain": [
       "<Figure size 432x288 with 1 Axes>"
      ]
     },
     "metadata": {
      "needs_background": "light"
     },
     "output_type": "display_data"
    }
   ],
   "source": [
    "puntos=40\n",
    "\n",
    "dx=4/puntos\n",
    "x=np.array([-2+i*dx for i in range(puntos)]).reshape(-1,1)\n",
    "y=-x*x.reshape(-1,1) +0.3*np.random.random(puntos).reshape(-1,1)\n",
    "W=np.concatenate((x,y),axis=1)\n",
    "\n",
    "\n",
    "dx=4/puntos\n",
    "x=np.array([-2+i*dx for i in range(puntos)]).reshape(-1,1)\n",
    "y=-x*x.reshape(-1,1) +0.3*np.random.random(puntos).reshape(-1,1) -0.5\n",
    "W=np.concatenate((W,np.concatenate((x,y),axis=1)),axis=0)\n",
    "\n",
    "dx=4/puntos\n",
    "x=np.array([-2+i*dx for i in range(puntos)]).reshape(-1,1)\n",
    "y=-x*x.reshape(-1,1) +0.3*np.random.random(puntos).reshape(-1,1) +0.5\n",
    "W=np.concatenate((W,np.concatenate((x,y),axis=1)),axis=0)\n",
    "\n",
    "dx=4/puntos\n",
    "x=np.array([-2+i*dx for i in range(puntos)]).reshape(-1,1)\n",
    "y=-x*x.reshape(-1,1) +0.3*np.random.random(puntos).reshape(-1,1) -0.25\n",
    "W=np.concatenate((W,np.concatenate((x,y),axis=1)),axis=0)\n",
    "\n",
    "dx=4/puntos\n",
    "x=np.array([-2+i*dx for i in range(puntos)]).reshape(-1,1)\n",
    "y=-x*x.reshape(-1,1) +0.3*np.random.random(puntos).reshape(-1,1) +0.25\n",
    "W=np.concatenate((W,np.concatenate((x,y),axis=1)),axis=0)\n",
    "\n",
    "\n",
    "\n",
    "\n",
    "y1, y2 = np.random.multivariate_normal([1.7,-4], [[0.05,0],[0,0.05]], puntos).T\n",
    "y1=np.array(y1)\n",
    "y2=np.array(y2)\n",
    "y1=y1.reshape(-1,1)\n",
    "y2=y2.reshape(-1,1)\n",
    "\n",
    "Ycol=np.concatenate((y1,y2),axis=1)\n",
    "Y=Ycol.flatten()\n",
    "\n",
    "\n",
    "x1, x2 = np.random.multivariate_normal([-1.7,-4], [[0.05,0],[0,0.05]], puntos).T\n",
    "x1=np.array(x1)\n",
    "x2=np.array(x2)\n",
    "x1=x1.reshape(-1,1)\n",
    "x2=x2.reshape(-1,1)\n",
    "Zcol=np.concatenate((x1,x2),axis=1)\n",
    "Z=Zcol.flatten()\n",
    "\n",
    "\n",
    "\n",
    "\n",
    "\n",
    "plt.plot(W[:,0],W[:,1],'.',c='y')\n",
    "plt.plot(x1,x2,'x',c='r')\n",
    "plt.plot(y1,y2,'x',c='b')\n",
    "plt.axis('equal')\n",
    "plt.title('Rojo es una distribucion, azul otra y amarillo es la superficie')\n",
    "plt.show()"
   ]
  },
  {
   "cell_type": "markdown",
   "metadata": {},
   "source": [
    "# ACA ARRANCA LO NUEVO"
   ]
  },
  {
   "cell_type": "markdown",
   "metadata": {},
   "source": [
    "## Tomo la dist de fermat al cuadrado por lo que dijo esteban, sino cualquier solucion en la geodesica va a ser lo mismo"
   ]
  },
  {
   "cell_type": "code",
   "execution_count": 783,
   "metadata": {},
   "outputs": [],
   "source": [
    "data=np.concatenate((Zcol,Ycol,W),axis=0)\n",
    "\n",
    "alpha=2\n",
    "k=20\n",
    "dimension=2\n",
    "h=1 #TODO (es el bandwith de los kernel)\n",
    "\n",
    "f_dist,tree=fermat_graph(data,alpha=alpha)\n",
    "f_dist=f_dist#**2\n",
    "\n",
    "#PUSE EL CUADRADO PERO NO CAMBIE EL GRADIENTE!\n",
    "#(HABRIA QUE REESCALARLO CON UN 2*DIST_FERMAT),NO? TODO\n",
    "\n",
    "x=np.concatenate((Zcol,Ycol),axis=0) #los datos X iniciales, las distribuciones. \n",
    "z=np.matrix([0 for i in range(Zcol.shape[0])]+[1 for i in range(Ycol.shape[0])]).T\n",
    "#le pongo label 0 a la primera y 1 a la segunda"
   ]
  },
  {
   "cell_type": "markdown",
   "metadata": {},
   "source": [
    "### Defino las funciones que utilizan en el paper de tabak. Basicamente los nucleos y sus gradientes (armo una matriz que tiene el resultado de los kernel con los posibles centros evaluados en  los posibles puntos), esta matriz C que definen, el lagrangiano y su gradiente "
   ]
  },
  {
   "cell_type": "code",
   "execution_count": 784,
   "metadata": {
    "collapsed": true
   },
   "outputs": [],
   "source": [
    "#ARMO LA MATRIZ C    \n",
    "#vector con los valores z que hay, una matriz por filas paso\n",
    "#viene en el mismo orden que los y\n",
    "def armar_C(z,b=1):\n",
    "    z_matrix=np.zeros((z.shape[0],z.shape[0]))\n",
    "    for j in range(z.shape[0]):\n",
    "        sumita=0\n",
    "        for i in range (z.shape[0]):\n",
    "            aux=kernel(z[j],z[i],b,1)\n",
    "            z_matrix[i,j]=aux\n",
    "            sumita+=aux\n",
    "        z_matrix[:,j]=z_matrix[:,j]/sumita\n",
    "    C=z_matrix-np.mean(z_matrix,axis=0).reshape(-1,1)\n",
    "    return C\n",
    "\n",
    "def armar_C_categorico(z):\n",
    "    z_matrix=np.zeros((z.shape[0],z.shape[0]))\n",
    "    for j in range(z.shape[0]):\n",
    "        sumita=0\n",
    "        for i in range (z.shape[0]):\n",
    "            aux=0\n",
    "            if(z[i]==z[j]):\n",
    "                aux=1\n",
    "            z_matrix[i,j]=aux\n",
    "            sumita+=aux\n",
    "        z_matrix[:,j]=z_matrix[:,j]/sumita\n",
    "    C=z_matrix-np.mean(z_matrix,axis=0).reshape(-1,1)\n",
    "    return C\n",
    "\n",
    "\n",
    "\n",
    "\n",
    "\n",
    "#DEFINO LOS KERNEL Y SUS GRADIENTES (DERIVO EN PRIMER COORDENADA)\n",
    "def kernel2(x,centro):\n",
    "    return np.exp( -np.linalg.norm(x-centro)**2/(2*(h**2)) )/np.sqrt((2*np.pi)**dimension) \n",
    "     \n",
    "def kernel_grad2(x,centro):\n",
    "    return -(1/(h**2))*(x-centro)*np.exp( -np.linalg.norm(x-centro)**2/(2*(h**2)) )/np.sqrt((2*np.pi)**dimension) \n",
    "\n",
    "\n",
    "\n",
    "\n",
    "#matriz que tieneen el lugar ij al kernel(y_i,y_j) y\n",
    "#lo mismo con gradiente_ij (en la primer coord derivo el kernel de centro y_j y evaluo en y_i)\n",
    "#TENGO QUE HACERLO MAS RAPIDO ESTO!!\n",
    "def kernel_matrix_y2(y):\n",
    "        y_matrix=np.zeros((y.shape[0],y.shape[0]))\n",
    "        for i in range(y.shape[0]):\n",
    "            y_matrix[i,:]=np.array([kernel2(y[i,:],y[j,:])  for j in range(y.shape[0])]).reshape(1,-1)\n",
    "        return y_matrix\n",
    "    \n",
    "def grad_matrix_y2(y):\n",
    "        grad_matrix=np.zeros((y.shape[0],y.shape[0],dimension))\n",
    "        for i in range(y.shape[0]):\n",
    "            for j in range(y.shape[0]):\n",
    "                grad_matrix[i,j,:]=kernel_grad2(y[i,:],y[j,:])\n",
    "        return grad_matrix\n",
    "                \n",
    "        \n",
    "        \n",
    "        \n",
    "        \n",
    "#AHORA DEFINO LAGRANGIANO Y SU GRADIENTE                \n",
    "def lagrangiano(landa,kernel_matrix,C,cost): \n",
    "    return  cost+ landa * (kernel_matrix.flatten() @ C.flatten())\n",
    "#el lagrangiano es: sum_i[ cost(x_i,y_i)+ sum_k[landa*kernel(y_i,y_k)*C_il]   ]\n",
    "    \n",
    "    \n",
    "    \n",
    "    \n",
    "    \n",
    "#el gradiente de la parte de la F del lagrangiano\n",
    "def fgrad(y,grad_matrix,C): \n",
    "    dimension=y.shape[1]\n",
    "    aux=np.zeros(y.shape).flatten()\n",
    "    for i in range (y.shape[0]):\n",
    "        local_grad=C[i,:]@grad_matrix[i,:,:]\n",
    "        aux[i*dimension:(i+1)*dimension]= local_grad\n",
    "    return aux\n",
    "\n",
    "\n",
    "\n",
    "\n",
    "# derivo en y_i\n",
    "def lagrangiano_grad(landa,cost_grad,f_grad):\n",
    "    return cost_grad+landa*f_grad\n",
    "\n",
    "\n",
    "\n",
    "\n",
    "\n",
    "\n",
    "#La cuenta de como actualizar el landamin,hace la cuenta de que desciendo en direccion de L_F (que aca llamo f_grad)\n",
    "def landamin_actualizacion(cost_grad,f_grad):\n",
    "    num=cost_grad@f_grad\n",
    "    denom=f_grad@f_grad\n",
    "    return num/denom"
   ]
  },
  {
   "cell_type": "markdown",
   "metadata": {},
   "source": [
    "### Tratando de paralelizar asi no es una tortuga (lo hago principalmente con lo de los kernels y su gradiente que es una cuenta que hago mucho y grande)"
   ]
  },
  {
   "cell_type": "code",
   "execution_count": 785,
   "metadata": {
    "collapsed": true
   },
   "outputs": [],
   "source": [
    "import scipy\n",
    "from scipy.spatial.distance import pdist, squareform\n",
    "\n",
    "#matriz que tieneen el lugar ij al kernel(y_i,y_j) \n",
    "def kernel_matrix_y(y):\n",
    "    pairwise_dists = squareform(pdist(y, 'euclidean'))\n",
    "    return scipy.exp( -pairwise_dists**2/(2*(h**2))) / (np.sqrt( (2*np.pi)**dimension) )\n",
    "    \n",
    "    \n",
    "\n",
    "    \n",
    "def grad_matrix_y(y):\n",
    "    pairwise_dists=squareform(pdist(y,'euclidean'))\n",
    "    #armo la matriz que tiene el escalar por el que multiplico a la direccion\n",
    "    aux=scipy.exp( -pairwise_dists**2/(2*(h**2))) / (np.sqrt( (2*np.pi)**dimension))\n",
    "    aux=aux*(-1/(h**2))\n",
    "    \n",
    "    #simplemente hago en cada coordenada (De las d dimensiones) la resta de los y correspondeintes\n",
    "    #en el lugar ij tendre y_i-y_j y eso luego lo multiplico por aux.\n",
    "    unos=np.ones((y.shape[0],1))\n",
    "    res=np.zeros((y.shape[0],y.shape[0],dimension))\n",
    "    for d in range(dimension):\n",
    "        res[:,:,d]=(y[:,d].reshape(-1,1)) @unos.T -  unos @ (y[:,d].reshape(-1,1)).T  \n",
    "        res[:,:,d]=res[:,:,d]*aux\n",
    "    return res\n",
    "       "
   ]
  },
  {
   "cell_type": "code",
   "execution_count": 786,
   "metadata": {},
   "outputs": [
    {
     "name": "stdout",
     "output_type": "stream",
     "text": [
      "CPU times: user 20 ms, sys: 0 ns, total: 20 ms\n",
      "Wall time: 17.7 ms\n"
     ]
    }
   ],
   "source": [
    "%%time\n",
    "y=np.random.random((100,dimension))\n",
    "asd=kernel_matrix_y(y)\n",
    "asdd=grad_matrix_y(y)"
   ]
  },
  {
   "cell_type": "code",
   "execution_count": 787,
   "metadata": {},
   "outputs": [
    {
     "name": "stdout",
     "output_type": "stream",
     "text": [
      "CPU times: user 4.52 s, sys: 136 ms, total: 4.65 s\n",
      "Wall time: 4.54 s\n"
     ]
    }
   ],
   "source": [
    "%%time \n",
    "#VEMOS QUE ESTE TARDA MUCHO MAS, AHORA ES MAS EFICIENTE\n",
    "\n",
    "\n",
    "asd2=kernel_matrix_y2(y)\n",
    "asdd2=grad_matrix_y2(y)"
   ]
  },
  {
   "cell_type": "code",
   "execution_count": 788,
   "metadata": {},
   "outputs": [
    {
     "name": "stdout",
     "output_type": "stream",
     "text": [
      "True True\n"
     ]
    }
   ],
   "source": [
    "#CHEQUEO QUE EFECTIVAMENTE DE LO MISMO...\n",
    "print(np.alltrue(asd2-asd<1e19),np.alltrue(asdd2-asdd<1e19))\n"
   ]
  },
  {
   "cell_type": "markdown",
   "metadata": {},
   "source": [
    "### El algoritmo que proponen (falta poner bien la formula del landamin que no la hice aun, ver que seria un buen beta y un buen landamax -ademas de una learningrate inicial y un h (el bandwith) inicial-)"
   ]
  },
  {
   "cell_type": "code",
   "execution_count": 792,
   "metadata": {},
   "outputs": [
    {
     "name": "stdout",
     "output_type": "stream",
     "text": [
      "it: 0, paso: 1.7986347809583987e-08, landa: 1.0\n",
      "it: 1, paso: 2.2595349538171927e-09, landa: 1.0000001907348604\n",
      "it: 2, paso: 5.677081574697209e-10, landa: 1.0000002146959295\n",
      "it: 3, paso: 1.426366745846668e-10, landa: 1.0000002207161465\n",
      "it: 4, paso: 7.167492898137054e-11, landa: 1.000000222228728\n",
      "it: 5, paso: 3.601665181378903e-11, landa: 1.0000002229887996\n",
      "it: 6, paso: 9.049183768296598e-12, landa: 1.000000223370735\n",
      "it: 7, paso: 4.547214843579407e-12, landa: 1.0000002234666951\n",
      "it: 8, paso: 9.139901835605075e-12, landa: 1.0000002235149146\n",
      "it: 9, paso: 1.8371202689608498e-11, landa: 1.0000002236118395\n",
      "it: 10, paso: 3.6926117406283984e-11, landa: 1.0000002238066557\n",
      "it: 11, paso: 7.422149598732123e-11, landa: 1.0000002241982358\n",
      "it: 12, paso: 1.4918520693730507e-10, landa: 1.0000002249853108\n",
      "it: 13, paso: 2.9986226595525283e-10, landa: 1.0000002265673311\n",
      "it: 14, paso: 6.027231546155884e-10, landa: 1.0000002297471962\n",
      "it: 15, paso: 1.21147354096128e-09, landa: 1.0000002361387286\n",
      "it: 16, paso: 2.4350618180753384e-09, landa: 1.0000002489857078\n",
      "it: 17, paso: 4.894474257333893e-09, landa: 1.0000002748081338\n",
      "it: 18, paso: 4.91894663468569e-09, landa: 1.0000003267112152\n",
      "it: 19, paso: 6.17942671748131e-10, landa: 1.00000037887381\n",
      "it: 20, paso: 1.5525809630088723e-10, landa: 1.000000385426737\n",
      "it: 21, paso: 3.1206877357698905e-10, landa: 1.0000003870731589\n",
      "it: 22, paso: 6.272582349390607e-10, landa: 1.0000003903824688\n",
      "it: 23, paso: 1.26078905242674e-09, landa: 1.0000003970341826\n",
      "it: 24, paso: 2.5341859961826486e-09, landa: 1.0000004104041251\n",
      "it: 25, paso: 5.093713855579005e-09, landa: 1.0000004372777074\n",
      "it: 26, paso: 6.39897803928233e-10, landa: 1.0000004912936118\n",
      "it: 27, paso: 8.038716163144286e-11, landa: 1.0000004980793589\n",
      "it: 28, paso: 4.039454872061808e-11, landa: 1.000000498931818\n",
      "it: 29, paso: 2.029826073231714e-11, landa: 1.0000004993601819\n",
      "it: 30, paso: 1.0199876018041519e-11, landa: 1.0000004995754335\n",
      "it: 31, paso: 1.0250875398158066e-11, landa: 1.0000004996835952\n",
      "it: 32, paso: 2.0604259550350925e-11, landa: 1.000000499792301\n",
      "it: 33, paso: 4.1414561696420313e-11, landa: 1.0000005000108\n",
      "it: 34, paso: 8.324326901067331e-11, landa: 1.000000500449981\n",
      "it: 35, paso: 1.6731897071496212e-10, landa: 1.0000005013327284\n",
      "it: 36, paso: 3.3631113115124963e-10, landa: 1.0000005031070505\n",
      "it: 37, paso: 6.759853736712835e-10, landa: 1.0000005066734363\n",
      "it: 38, paso: 1.358730601310663e-09, landa: 1.000000513841872\n",
      "it: 39, paso: 2.7310485095692446e-09, landa: 1.000000528250426\n",
      "it: 40, paso: 2.744703754005459e-09, landa: 1.0000005572116237\n",
      "it: 41, paso: 3.4480340933534816e-10, landa: 1.0000005863176242\n",
      "it: 42, paso: 8.663185660303126e-11, landa: 1.0000005899740634\n",
      "it: 43, paso: 2.1766253971986635e-11, landa: 1.0000005908927465\n",
      "it: 44, paso: 5.468771310491629e-12, landa: 1.0000005911235625\n",
      "it: 45, paso: 5.496115167051658e-12, landa: 1.0000005911815577\n",
      "it: 46, paso: 1.1047191485789128e-11, landa: 1.0000005912398418\n",
      "it: 47, paso: 2.2204854886497943e-11, landa: 1.0000005913569912\n",
      "it: 48, paso: 4.4631758322110534e-11, landa: 1.0000005915924608\n",
      "it: 49, paso: 8.970983422845082e-11, landa: 1.0000005920657546\n",
      "it: 50, paso: 1.803167668032612e-10, landa: 1.000000593017075\n",
      "it: 51, paso: 3.6243670129101865e-10, landa: 1.0000005949292292\n",
      "it: 52, paso: 7.28497769661463e-10, landa: 1.0000005987726603\n",
      "it: 53, paso: 1.4642805172882694e-09, landa: 1.0000006064979596\n",
      "it: 54, paso: 2.943203840835112e-09, landa: 1.0000006220258126\n",
      "it: 55, paso: 1.4789599311162192e-09, landa: 1.0000006532367958\n",
      "it: 56, paso: 9.289717070784901e-11, landa: 1.000000668920311\n",
      "it: 57, paso: 2.334041414089329e-11, landa: 1.000000669905433\n",
      "it: 58, paso: 1.1728558105867837e-11, landa: 1.0000006701529418\n",
      "it: 59, paso: 5.893600448216002e-12, landa: 1.0000006702773172\n",
      "it: 60, paso: 2.9615342252329376e-12, landa: 1.0000006703398165\n",
      "it: 61, paso: 1.4881709481806611e-12, landa: 1.000000670371222\n",
      "it: 62, paso: 2.99122360584425e-12, landa: 1.0000006703870012\n",
      "it: 63, paso: 6.012359447751472e-12, landa: 1.0000006704187197\n",
      "it: 64, paso: 1.2084842489998762e-11, landa: 1.0000006704824758\n",
      "it: 65, paso: 2.429053340497146e-11, landa: 1.000000670610629\n",
      "it: 66, paso: 4.8823972144291394e-11, landa: 1.000000670868215\n",
      "it: 67, paso: 9.813618401123272e-11, landa: 1.0000006713859648\n",
      "it: 68, paso: 1.9725372986745435e-10, landa: 1.0000006724266417\n",
      "it: 69, paso: 3.9647999705328514e-10, landa: 1.0000006745184025\n",
      "it: 70, paso: 7.969247941567007e-10, landa: 1.0000006787228457\n",
      "it: 71, paso: 1.6018188365765509e-09, landa: 1.000000687173775\n",
      "it: 72, paso: 3.2196558628180933e-09, landa: 1.0000007041601409\n",
      "it: 73, paso: 2.0223463404729277e-10, landa: 1.0000007383027367\n",
      "it: 74, paso: 5.0811451806970976e-11, landa: 1.0000007404473161\n",
      "it: 75, paso: 1.2766377266664871e-11, landa: 1.0000007409861418\n",
      "it: 76, paso: 1.6037761441299318e-12, landa: 1.0000007411215213\n",
      "it: 77, paso: 8.058975124256164e-13, landa: 1.0000007411385299\n",
      "it: 78, paso: 4.049634999939545e-13, landa: 1.0000007411470764\n",
      "it: 79, paso: 8.139766349879313e-13, landa: 1.0000007411513736\n",
      "it: 80, paso: 1.6360930363260777e-12, landa: 1.0000007411600056\n",
      "it: 81, paso: 3.2885470030167705e-12, landa: 1.000000741177353\n",
      "it: 82, paso: 6.609979476069185e-12, landa: 1.0000007412122258\n",
      "it: 83, paso: 1.3286058746921183e-11, landa: 1.0000007412823206\n",
      "it: 84, paso: 2.670497808140096e-11, landa: 1.0000007414232122\n",
      "it: 85, paso: 5.367700594397704e-11, landa: 1.0000007417064072\n",
      "it: 86, paso: 1.0789078194885276e-10, landa: 1.000000742275619\n",
      "it: 87, paso: 2.168604717230883e-10, landa: 1.0000007434197387\n",
      "it: 88, paso: 4.358895481872207e-10, landa: 1.0000007457194224\n",
      "it: 89, paso: 8.761379919525216e-10, landa: 1.0000007503417794\n",
      "it: 90, paso: 1.7610373642132575e-09, landa: 1.000000759632718\n",
      "it: 91, paso: 1.769842551819496e-09, landa: 1.000000778307508\n",
      "it: 92, paso: 4.4467294134290926e-10, landa: 1.0000007970756675\n",
      "it: 93, paso: 2.2344815304984293e-10, landa: 1.0000008017911717\n",
      "it: 94, paso: 1.1228269691386657e-10, landa: 1.000000804160712\n",
      "it: 95, paso: 2.821102760040695e-11, landa: 1.0000008053514033\n",
      "it: 96, paso: 7.0880206846526205e-12, landa: 1.0000008056505647\n",
      "it: 97, paso: 1.4246921576177204e-11, landa: 1.0000008057257297\n",
      "it: 98, paso: 2.8636312368218963e-11, landa: 1.0000008058768126\n",
      "it: 99, paso: 5.755898786053533e-11, landa: 1.000000806180485\n",
      "it: 100, paso: 1.1569356560135361e-10, landa: 1.0000008067908637\n",
      "it: 101, paso: 2.325440668654983e-10, landa: 1.0000008080177274\n",
      "it: 102, paso: 4.674135744270337e-10, landa: 1.000000810483723\n",
      "it: 103, paso: 9.395012847089647e-10, landa: 1.000000815440374\n",
      "it: 104, paso: 1.888397582711962e-09, landa: 1.0000008254032426\n",
      "it: 105, paso: 9.489197857641849e-10, landa: 1.0000008454286105\n",
      "it: 106, paso: 4.768321924604902e-10, landa: 1.000000855491359\n",
      "it: 107, paso: 2.396081767401789e-10, landa: 1.0000008605478874\n",
      "it: 108, paso: 1.2040310881920763e-10, landa: 1.0000008630887973\n",
      "it: 109, paso: 6.050256218348698e-11, landa: 1.0000008643656029\n",
      "it: 110, paso: 3.0402537497665594e-11, landa: 1.0000008650071954\n",
      "it: 111, paso: 1.5277275092693968e-11, landa: 1.000000865329596\n",
      "it: 112, paso: 7.676830734108263e-12, landa: 1.0000008654916022\n",
      "it: 113, paso: 1.5430429775587446e-11, landa: 1.0000008655730093\n",
      "it: 114, paso: 3.1015163849051326e-11, landa: 1.0000008657366393\n",
      "it: 115, paso: 6.234047933708025e-11, landa: 1.0000008660655375\n",
      "it: 116, paso: 1.2530436346949917e-10, landa: 1.0000008667266238\n",
      "it: 117, paso: 2.518617705816437e-10, landa: 1.000000868055405\n",
      "it: 118, paso: 5.062421589012243e-10, landa: 1.000000870726255\n",
      "it: 119, paso: 1.0175467395212304e-09, landa: 1.0000008760946606\n",
      "it: 120, paso: 2.045268946961957e-09, landa: 1.000000886885156\n",
      "it: 121, paso: 1.0277476463779233e-09, landa: 1.0000009085740558\n",
      "it: 122, paso: 1.2911079810965462e-10, landa: 1.0000009194727268\n",
      "it: 123, paso: 3.243908802610581e-11, landa: 1.00000092084187\n",
      "it: 124, paso: 1.630064173325138e-11, landa: 1.0000009211858691\n",
      "it: 125, paso: 4.095536235496227e-12, landa: 1.000000921358729\n",
      "it: 126, paso: 1.0290034791694886e-12, landa: 1.0000009214021603\n",
      "it: 127, paso: 2.0682969931312084e-12, landa: 1.0000009214130738\n",
      "it: 128, paso: 4.157276956195895e-12, landa: 1.0000009214350059\n",
      "it: 129, paso: 8.356126681962499e-12, landa: 1.0000009214790904\n",
      "it: 130, paso: 1.6795814630779976e-11, landa: 1.000000921567703\n"
     ]
    },
    {
     "name": "stdout",
     "output_type": "stream",
     "text": [
      "it: 131, paso: 3.375958740801059e-11, landa: 1.0000009217458115\n",
      "it: 132, paso: 6.785677069067838e-11, landa: 1.0000009221038129\n",
      "it: 133, paso: 1.3639210909059505e-10, landa: 1.0000009228233933\n",
      "it: 134, paso: 2.7414813928151574e-10, landa: 1.0000009242697534\n",
      "it: 135, paso: 5.51037759993903e-10, landa: 1.000000927176936\n",
      "it: 136, paso: 1.107585897741497e-09, landa: 1.0000009330203736\n",
      "it: 137, paso: 2.2262476550815813e-09, landa: 1.0000009447656795\n",
      "it: 138, paso: 2.796723618264737e-10, landa: 1.0000009683737543\n",
      "it: 139, paso: 1.4053536182770442e-10, landa: 1.0000009713395146\n",
      "it: 140, paso: 7.061901932092163e-11, landa: 1.0000009728298098\n",
      "it: 141, paso: 3.548605720939442e-11, landa: 1.0000009735786857\n",
      "it: 142, paso: 8.915871873940054e-12, landa: 1.000000973954996\n",
      "it: 143, paso: 4.480225616664939e-12, landa: 1.0000009740495444\n",
      "it: 144, paso: 4.502626744753345e-12, landa: 1.0000009740970544\n",
      "it: 145, paso: 9.050279756964488e-12, landa: 1.0000009741448033\n",
      "it: 146, paso: 1.8191062311540094e-11, landa: 1.0000009742407772\n",
      "it: 147, paso: 3.6564035246363154e-11, landa: 1.0000009744336853\n",
      "it: 148, paso: 7.349371084586689e-11, landa: 1.000000974821425\n",
      "it: 149, paso: 1.4772235880292743e-10, landa: 1.0000009756007822\n",
      "it: 150, paso: 2.9692194120493373e-10, landa: 1.0000009771672926\n",
      "it: 151, paso: 5.968131018665588e-10, landa: 1.0000009803159802\n",
      "it: 152, paso: 1.1995943349321406e-09, landa: 1.000000986644842\n",
      "it: 153, paso: 1.2055923069711323e-09, landa: 1.0000009993658474\n",
      "it: 154, paso: 6.05810134436986e-10, landa: 1.0000010121504601\n",
      "it: 155, paso: 3.044195926010445e-10, landa: 1.0000010185747252\n",
      "it: 156, paso: 1.5297084529375606e-10, landa: 1.0000010218029185\n",
      "it: 157, paso: 3.8433924881537313e-11, landa: 1.0000010234250858\n",
      "it: 158, paso: 1.931304725315949e-11, landa: 1.000001023832656\n",
      "it: 159, paso: 2.4262015611899652e-12, landa: 1.000001024037462\n",
      "it: 160, paso: 1.2191662844987026e-12, landa: 1.0000010240631922\n",
      "it: 161, paso: 6.12631057960786e-13, landa: 1.0000010240761192\n",
      "it: 162, paso: 3.078471066253425e-13, landa: 1.0000010240826154\n",
      "it: 163, paso: 3.0938634215849316e-13, landa: 1.0000010240858792\n",
      "it: 164, paso: 6.218665477386198e-13, landa: 1.0000010240891608\n",
      "it: 165, paso: 1.2499517609548213e-12, landa: 1.0000010240957542\n",
      "it: 166, paso: 2.5124030395199813e-12, landa: 1.0000010241090111\n",
      "it: 167, paso: 5.049930109438358e-12, landa: 1.0000010241356543\n",
      "it: 168, paso: 1.0150359519984012e-11, landa: 1.0000010241892066\n",
      "it: 169, paso: 2.0402222635220034e-11, landa: 1.0000010242968473\n",
      "it: 170, paso: 4.1008467497003034e-11, landa: 1.0000010245132014\n",
      "it: 171, paso: 8.242701966982763e-11, landa: 1.0000010249480713\n",
      "it: 172, paso: 1.656783095397938e-10, landa: 1.0000010258221608\n",
      "it: 173, paso: 3.330134021888847e-10, landa: 1.0000010275790816\n",
      "it: 174, paso: 6.693569384558123e-10, landa: 1.0000010311104943\n",
      "it: 175, paso: 1.3454074465230501e-09, landa: 1.0000010382086408\n",
      "it: 176, paso: 1.3521344842139505e-09, landa: 1.0000010524759084\n",
      "it: 177, paso: 3.397237892744748e-10, landa: 1.0000010668145165\n",
      "it: 178, paso: 8.535560206251676e-11, landa: 1.0000010704170912\n",
      "it: 179, paso: 2.1445595018668472e-11, landa: 1.0000010713222396\n",
      "it: 180, paso: 1.0776411496939128e-11, landa: 1.0000010715496572\n",
      "it: 181, paso: 2.7075733886133054e-12, landa: 1.0000010716639325\n",
      "it: 182, paso: 2.7211112555582282e-12, landa: 1.0000010716926448\n",
      "it: 183, paso: 2.7347168118378937e-12, landa: 1.0000010717215015\n",
      "it: 184, paso: 5.496780791797954e-12, landa: 1.0000010717505026\n",
      "it: 185, paso: 1.1048529391529187e-11, landa: 1.0000010718087928\n",
      "it: 186, paso: 2.2207544077035467e-11, landa: 1.000001071925954\n",
      "it: 187, paso: 4.4637163595091004e-11, landa: 1.0000010721614525\n",
      "it: 188, paso: 8.972069882714183e-11, landa: 1.000001072634805\n",
      "it: 189, paso: 1.8033860464663114e-10, landa: 1.00000107358624\n",
      "it: 190, paso: 3.6248059535619637e-10, landa: 1.0000010754986244\n",
      "it: 191, paso: 7.28585996732486e-10, landa: 1.0000010793425222\n",
      "it: 192, paso: 1.4644578537010905e-09, landa: 1.0000010870687557\n",
      "it: 193, paso: 7.358900717562867e-10, landa: 1.0000011025984896\n",
      "it: 194, paso: 3.697847611260864e-10, landa: 1.0000011104021775\n",
      "it: 195, paso: 1.8581684248316833e-10, landa: 1.0000011143235306\n",
      "it: 196, paso: 9.337296335216296e-11, landa: 1.000001116294013\n",
      "it: 197, paso: 5.864989260695696e-12, landa: 1.000001117284178\n",
      "it: 198, paso: 7.367892758759854e-13, landa: 1.0000011173463732\n",
      "it: 199, paso: 7.404732222555027e-13, landa: 1.0000011173541845\n",
      "it: 200, paso: 3.720877941834594e-13, landa: 1.0000011173620371\n",
      "it: 201, paso: 7.478964663088235e-13, landa: 1.0000011173659846\n",
      "it: 202, paso: 1.5032718972810184e-12, landa: 1.0000011173739145\n",
      "it: 203, paso: 3.0215765135359905e-12, landa: 1.0000011173898553\n",
      "it: 204, paso: 6.073368792211963e-12, landa: 1.0000011174218975\n",
      "it: 205, paso: 1.2207471272364724e-11, landa: 1.0000011174863022\n",
      "it: 206, paso: 2.4537017257528544e-11, landa: 1.0000011176157533\n",
      "it: 207, paso: 4.931940468793724e-11, landa: 1.000001117875953\n",
      "it: 208, paso: 9.913200342398548e-11, landa: 1.0000011183989554\n",
      "it: 209, paso: 1.9925532688718682e-10, landa: 1.0000011194501914\n",
      "it: 210, paso: 4.005032070633493e-10, landa: 1.0000011215631788\n",
      "it: 211, paso: 8.050114462785532e-10, landa: 1.0000011258102843\n",
      "it: 212, paso: 1.6180730073480337e-09, landa: 1.0000011343469657\n",
      "it: 213, paso: 8.130816865238186e-10, landa: 1.0000011515056981\n",
      "it: 214, paso: 5.107169344523842e-11, landa: 1.0000011601279606\n",
      "it: 215, paso: 2.5663525956562486e-11, landa: 1.0000011606695485\n",
      "it: 216, paso: 1.2895921793256019e-11, landa: 1.000001160941696\n",
      "it: 217, paso: 6.480200701132202e-12, landa: 1.0000011610784456\n",
      "it: 218, paso: 3.2563008523242465e-12, landa: 1.0000011611471646\n",
      "it: 219, paso: 1.636291178294276e-12, landa: 1.0000011611816968\n",
      "it: 220, paso: 2.0555907927330315e-13, landa: 1.0000011611990478\n",
      "it: 221, paso: 1.0329343733484015e-13, landa: 1.0000011612012265\n",
      "it: 222, paso: 2.076198090430341e-13, landa: 1.0000011612023205\n",
      "it: 223, paso: 4.173158161765203e-13, landa: 1.0000011612045225\n",
      "it: 224, paso: 8.388047905148939e-13, landa: 1.0000011612089488\n",
      "it: 225, paso: 1.6859976289352921e-12, landa: 1.0000011612178412\n",
      "it: 226, paso: 3.388855234161377e-12, landa: 1.000001161235723\n",
      "it: 227, paso: 6.811599020670181e-12, landa: 1.0000011612716562\n",
      "it: 228, paso: 1.3691314031570557e-11, landa: 1.0000011613438915\n",
      "it: 229, paso: 2.751954120355173e-11, landa: 1.0000011614890778\n",
      "it: 230, paso: 5.531427781952245e-11, landa: 1.0000011617809088\n",
      "it: 231, paso: 1.1118169841878943e-10, landa: 1.000001162367488\n",
      "it: 232, paso: 2.2347521382802603e-10, landa: 1.0000011635465078\n",
      "it: 233, paso: 4.491851798196204e-10, landa: 1.000001165916334\n",
      "it: 234, paso: 9.028622115396035e-10, landa: 1.000001170679681\n",
      "it: 235, paso: 1.814753045607365e-09, landa: 1.000001180254011\n",
      "it: 236, paso: 2.2797835145865044e-10, landa: 1.0000011994984228\n",
      "it: 237, paso: 1.145591216145512e-10, landa: 1.0000012019160003\n",
      "it: 238, paso: 2.8782979306486664e-11, landa: 1.0000012031308367\n",
      "it: 239, paso: 5.785378840645769e-11, landa: 1.0000012034360621\n",
      "it: 240, paso: 1.1628611469867473e-10, landa: 1.0000012040495676\n",
      "it: 241, paso: 2.337350905511834e-10, landa: 1.0000012052827136\n",
      "it: 242, paso: 4.698075320355419e-10, landa: 1.0000012077613392\n",
      "it: 243, paso: 9.443131395032019e-10, landa: 1.000001212743374\n",
      "it: 244, paso: 1.898069410852969e-09, landa: 1.0000012227572688\n",
      "it: 245, paso: 1.1922248492620958e-10, landa: 1.0000012428851968\n",
      "it: 246, paso: 3.7443311673262284e-12, landa: 1.0000012441494845\n",
      "it: 247, paso: 3.763052823166409e-12, landa: 1.0000012441891892\n",
      "it: 248, paso: 3.781868087285826e-12, landa: 1.0000012442290942\n",
      "it: 249, paso: 7.601554855451751e-12, landa: 1.0000012442691983\n",
      "it: 250, paso: 1.5279125259487276e-11, landa: 1.000001244349809\n",
      "it: 251, paso: 3.0711041771687634e-11, landa: 1.000001244511834\n",
      "it: 252, paso: 6.172919396156972e-11, landa: 1.0000012448375095\n",
      "it: 253, paso: 1.240756798646846e-10, landa: 1.0000012454921123\n",
      "it: 254, paso: 2.493921165358113e-10, landa: 1.000001246807864\n",
      "it: 255, paso: 5.012781542684742e-10, landa: 1.0000012494525237\n",
      "it: 256, paso: 1.007569090206871e-09, landa: 1.0000012547682906\n",
      "it: 257, paso: 1.0126069359149314e-09, landa: 1.0000012654529824\n",
      "it: 258, paso: 5.088349854270546e-10, landa: 1.0000012761910975\n",
      "it: 259, paso: 1.2784479010493526e-10, landa: 1.0000012815869972\n",
      "it: 260, paso: 6.424200702979899e-11, landa: 1.000001282942719\n"
     ]
    },
    {
     "name": "stdout",
     "output_type": "stream",
     "text": [
      "it: 261, paso: 8.070402133249105e-12, landa: 1.0000012836239687\n",
      "it: 262, paso: 4.05537707196592e-12, landa: 1.0000012837095498\n",
      "it: 263, paso: 4.075653957329912e-12, landa: 1.0000012837525518\n",
      "it: 264, paso: 8.192064454241534e-12, landa: 1.0000012837957735\n",
      "it: 265, paso: 1.6466049553059465e-11, landa: 1.0000012838826473\n",
      "it: 266, paso: 3.309675960178681e-11, landa: 1.0000012840572594\n",
      "it: 267, paso: 6.652448680014615e-11, landa: 1.0000012844082318\n",
      "it: 268, paso: 1.3371421847053462e-10, landa: 1.0000012851136872\n",
      "it: 269, paso: 2.68765579134828e-10, landa: 1.00000128653165\n",
      "it: 270, paso: 5.402188140975809e-10, landa: 1.0000012893817536\n",
      "it: 271, paso: 1.0858398164839115e-09, landa: 1.0000012951104622\n",
      "it: 272, paso: 1.0912690158648413e-09, landa: 1.0000013066251683\n",
      "it: 273, paso: 2.7418134031141706e-10, landa: 1.000001318197448\n",
      "it: 274, paso: 6.888806175800173e-11, landa: 1.0000013211049807\n",
      "it: 275, paso: 1.7308125516998303e-11, landa: 1.0000013218355\n",
      "it: 276, paso: 4.348666536164784e-12, landa: 1.0000013220190422\n",
      "it: 277, paso: 1.0926024672125992e-12, landa: 1.0000013220651616\n",
      "it: 278, paso: 2.1961309590979285e-12, landa: 1.0000013220767465\n",
      "it: 279, paso: 4.414223227789277e-12, landa: 1.0000013221000346\n",
      "it: 280, paso: 8.872588687866313e-12, landa: 1.0000013221468464\n",
      "it: 281, paso: 1.783390326265115e-11, landa: 1.0000013222409363\n",
      "it: 282, paso: 3.584614555808986e-11, landa: 1.000001322430055\n",
      "it: 283, paso: 7.205075257241125e-11, landa: 1.000001322810185\n",
      "it: 284, paso: 1.4482201267317527e-10, landa: 1.0000013235742442\n",
      "it: 285, paso: 2.910922454837023e-10, landa: 1.000001325109999\n",
      "it: 286, paso: 5.850954134651477e-10, landa: 1.0000013281968627\n",
      "it: 287, paso: 1.1760417812382917e-09, landa: 1.000001334401464\n",
      "it: 288, paso: 5.909609952473242e-10, landa: 1.0000013468727096\n",
      "it: 289, paso: 2.9695790015598985e-10, landa: 1.00000135313951\n",
      "it: 290, paso: 1.4922134483954808e-10, landa: 1.0000013562885783\n",
      "it: 291, paso: 7.498372578469167e-11, landa: 1.0000013578709845\n",
      "it: 292, paso: 3.767932220751932e-11, landa: 1.000001358666146\n",
      "it: 293, paso: 1.8933859409458178e-11, landa: 1.000001359065712\n",
      "it: 294, paso: 4.757132176649058e-12, landa: 1.0000013592664934\n",
      "it: 295, paso: 2.390458918769016e-12, landa: 1.0000013593169403\n",
      "it: 296, paso: 4.804822426728616e-12, landa: 1.0000013593422905\n",
      "it: 297, paso: 9.657693077736206e-12, landa: 1.000001359393242\n",
      "it: 298, paso: 1.9411963086297e-11, landa: 1.000001359495656\n",
      "it: 299, paso: 3.901804580364778e-11, landa: 1.0000013597015112\n",
      "it: 300, paso: 7.842627206610291e-11, landa: 1.0000013601152744\n",
      "it: 301, paso: 1.576368068559813e-10, landa: 1.000001360946943\n",
      "it: 302, paso: 3.1684998179310507e-10, landa: 1.000001362618591\n",
      "it: 303, paso: 6.368684634549763e-10, landa: 1.0000013659786016\n",
      "it: 304, paso: 1.2801056117498819e-09, landa: 1.0000013727322232\n",
      "it: 305, paso: 6.432530701117542e-10, landa: 1.0000013863070065\n",
      "it: 306, paso: 1.6161733389176792e-10, landa: 1.0000013931283331\n",
      "it: 307, paso: 4.060635514195996e-11, landa: 1.0000013948421933\n",
      "it: 308, paso: 2.0404693459043613e-11, landa: 1.0000013952728024\n",
      "it: 309, paso: 5.126679231611059e-12, landa: 1.0000013954891807\n",
      "it: 310, paso: 1.2880781569439422e-12, landa: 1.0000013955435456\n",
      "it: 311, paso: 6.472592738645408e-13, landa: 1.0000013955572058\n",
      "it: 312, paso: 3.252477851169848e-13, landa: 1.0000013955640694\n",
      "it: 313, paso: 3.268740240425965e-13, landa: 1.000001395567518\n",
      "it: 314, paso: 6.570167883256729e-13, landa: 1.0000013955709848\n",
      "it: 315, paso: 6.603018722674104e-13, landa: 1.0000013955779494\n",
      "it: 316, paso: 1.3272067632577157e-12, landa: 1.0000013955849518\n",
      "it: 317, paso: 2.6676855941488994e-12, landa: 1.0000013955990237\n",
      "it: 318, paso: 5.362048044242893e-12, landa: 1.0000013956273137\n",
      "it: 319, paso: 1.0777716568942771e-11, landa: 1.0000013956841731\n",
      "it: 320, paso: 2.1663210303633786e-11, landa: 1.000001395798465\n",
      "it: 321, paso: 4.354305271054153e-11, landa: 1.0000013960281924\n",
      "it: 322, paso: 8.752153594914852e-11, landa: 1.0000013964899388\n",
      "it: 323, paso: 1.7591828726166719e-10, landa: 1.0000013974180524\n",
      "it: 324, paso: 3.535957574116215e-10, landa: 1.0000013992835652\n",
      "it: 325, paso: 7.107274724606694e-10, landa: 1.0000014030332465\n",
      "it: 326, paso: 1.4285622199017233e-09, landa: 1.0000014105701058\n",
      "it: 327, paso: 3.589262578794793e-10, landa: 1.0000014257191832\n",
      "it: 328, paso: 9.01802223003733e-11, landa: 1.0000014295253865\n",
      "it: 329, paso: 2.2657780853483535e-11, landa: 1.000001430481696\n",
      "it: 330, paso: 1.1385534878940463e-11, landa: 1.0000014307219662\n",
      "it: 331, paso: 5.721231276683991e-12, landa: 1.0000014308426997\n",
      "it: 332, paso: 7.187296791344622e-13, landa: 1.0000014309033702\n",
      "it: 333, paso: 1.4446466550605304e-12, landa: 1.0000014309109932\n",
      "it: 334, paso: 2.903739776672723e-12, landa: 1.000001430926313\n",
      "it: 335, paso: 5.836516951116442e-12, landa: 1.0000014309571075\n",
      "it: 336, paso: 1.1731399071761297e-11, landa: 1.0000014310190006\n",
      "it: 337, paso: 2.358011213430989e-11, landa: 1.0000014311434027\n",
      "it: 338, paso: 4.739602539024441e-11, landa: 1.0000014313934569\n",
      "it: 339, paso: 9.526601103552874e-11, landa: 1.000001431896064\n",
      "it: 340, paso: 1.9148468218600828e-10, landa: 1.0000014329063045\n",
      "it: 341, paso: 3.848842112124429e-10, landa: 1.000001434936888\n",
      "it: 342, paso: 7.736172646120199e-10, landa: 1.0000014390183616\n",
      "it: 343, paso: 1.5549707021732066e-09, landa: 1.0000014472221261\n",
      "it: 344, paso: 9.76715972685152e-11, landa: 1.000001463711696\n",
      "it: 345, paso: 4.90799776286365e-11, landa: 1.0000014647474464\n",
      "it: 346, paso: 1.2331344379347386e-11, landa: 1.0000014652679121\n",
      "it: 347, paso: 2.4786002202565244e-11, landa: 1.0000014653986788\n",
      "it: 348, paso: 4.981986442746721e-11, landa: 1.0000014656615168\n",
      "it: 349, paso: 1.0013792750046587e-10, landa: 1.0000014661898262\n",
      "it: 350, paso: 2.0127723428101395e-10, landa: 1.0000014672517328\n",
      "it: 351, paso: 4.0456724092535184e-10, landa: 1.000001469386161\n",
      "it: 352, paso: 8.131801543428352e-10, landa: 1.0000014736763636\n",
      "it: 353, paso: 8.172460552819671e-10, landa: 1.0000014822996748\n",
      "it: 354, paso: 4.1066614286373646e-10, landa: 1.0000014909660997\n",
      "it: 355, paso: 2.0635973681037647e-10, landa: 1.0000014953209795\n",
      "it: 356, paso: 1.0369576775260491e-10, landa: 1.0000014975093052\n",
      "it: 357, paso: 2.6053561648522574e-11, landa: 1.0000014986089394\n",
      "it: 358, paso: 1.3091914728468521e-11, landa: 1.000001498885219\n",
      "it: 359, paso: 3.289343575538564e-12, landa: 1.0000014990240513\n",
      "it: 360, paso: 1.652895146709498e-12, landa: 1.0000014990589332\n",
      "it: 361, paso: 1.6611596224437372e-12, landa: 1.0000014990764612\n",
      "it: 362, paso: 1.6694654205566543e-12, landa: 1.000001499094076\n",
      "it: 363, paso: 3.3556254953202856e-12, landa: 1.00000149911178\n",
      "it: 364, paso: 6.744807245599475e-12, landa: 1.0000014991473631\n",
      "it: 365, paso: 1.3557062563677978e-11, landa: 1.0000014992188855\n",
      "it: 366, paso: 2.7249695753085797e-11, landa: 1.00000149936265\n",
      "it: 367, paso: 5.477188846407846e-11, landa: 1.0000014996516196\n",
      "it: 368, paso: 1.1009149581431673e-10, landa: 1.0000015002324432\n",
      "it: 369, paso: 2.2128390659291373e-10, landa: 1.0000015013999\n",
      "it: 370, paso: 4.4478065227655127e-10, landa: 1.000001503746493\n",
      "it: 371, paso: 8.940091111760408e-10, landa: 1.0000015084631355\n",
      "it: 372, paso: 8.984791569342748e-10, landa: 1.0000015179435853\n",
      "it: 373, paso: 2.2574288823083214e-10, landa: 1.0000015274714391\n",
      "it: 374, paso: 1.1343580134244412e-10, landa: 1.0000015298653124\n",
      "it: 375, paso: 5.700149017620707e-11, landa: 1.0000015310682322\n",
      "it: 376, paso: 2.8643248813955357e-11, landa: 1.000001531672699\n",
      "it: 377, paso: 3.5983081322791066e-12, landa: 1.0000015319764448\n",
      "it: 378, paso: 1.80814983647189e-12, landa: 1.0000015320146012\n",
      "it: 379, paso: 9.085952928275384e-13, landa: 1.0000015320337745\n",
      "it: 380, paso: 4.565691346459425e-13, landa: 1.0000015320434092\n",
      "it: 381, paso: 9.177039606384501e-13, landa: 1.0000015320482523\n",
      "it: 382, paso: 1.8445849608837103e-12, landa: 1.0000015320579845\n",
      "it: 383, paso: 3.707615771377981e-12, landa: 1.0000015320775442\n",
      "it: 384, paso: 7.452307700476703e-12, landa: 1.000001532116867\n",
      "it: 385, paso: 1.4979138477986294e-11, landa: 1.0000015321958966\n",
      "it: 386, paso: 3.0108068340866056e-11, landa: 1.0000015323547407\n",
      "it: 387, paso: 6.051721736559979e-11, landa: 1.00000153267402\n",
      "it: 388, paso: 1.2163960690671002e-10, landa: 1.0000015333157708\n",
      "it: 389, paso: 2.4449560988997926e-10, landa: 1.0000015346056885\n",
      "it: 390, paso: 4.914361759091274e-10, landa: 1.0000015371984234\n"
     ]
    },
    {
     "name": "stdout",
     "output_type": "stream",
     "text": [
      "it: 391, paso: 9.877867136996364e-10, landa: 1.0000015424098208\n",
      "it: 392, paso: 9.92725647515167e-10, landa: 1.0000015528847286\n",
      "it: 393, paso: 6.235557975014074e-11, landa: 1.0000015634120134\n",
      "it: 394, paso: 1.566683941246896e-11, landa: 1.0000015640732574\n",
      "it: 395, paso: 3.936293402398362e-12, landa: 1.0000015642393942\n",
      "it: 396, paso: 9.889937173535692e-13, landa: 1.0000015642811368\n",
      "it: 397, paso: 9.939386859405844e-13, landa: 1.0000015642916262\n",
      "it: 398, paso: 1.9978167587410742e-12, landa: 1.0000015643021642\n",
      "it: 399, paso: 4.015611685071581e-12, landa: 1.00000156432335\n",
      "it: 400, paso: 8.07137948700204e-12, landa: 1.000001564365932\n",
      "it: 401, paso: 1.6223472768907093e-11, landa: 1.0000015644515239\n",
      "it: 402, paso: 3.2609180265636526e-11, landa: 1.0000015646235656\n",
      "it: 403, paso: 6.554445233446786e-11, landa: 1.0000015649693665\n",
      "it: 404, paso: 1.3174434919445569e-10, landa: 1.0000015656644297\n",
      "it: 405, paso: 2.648061418896446e-10, landa: 1.0000015670615012\n",
      "it: 406, paso: 5.322603452336924e-10, landa: 1.0000015698696174\n",
      "it: 407, paso: 1.0698432940631737e-09, landa: 1.00000157551393\n",
      "it: 408, paso: 5.375962554116346e-10, landa: 1.0000015868590018\n",
      "it: 409, paso: 2.70142118380932e-10, landa: 1.0000015925599\n",
      "it: 410, paso: 3.39366036239141e-11, landa: 1.0000015954246009\n",
      "it: 411, paso: 8.526571660581312e-12, landa: 1.000001595784479\n",
      "it: 412, paso: 2.1423011297256563e-12, landa: 1.0000015958748978\n",
      "it: 413, paso: 5.382531588438615e-13, landa: 1.000001595897616\n",
      "it: 414, paso: 1.0818888492763081e-12, landa: 1.0000015959033215\n",
      "it: 415, paso: 2.174596587045972e-12, landa: 1.000001595914796\n",
      "it: 416, paso: 4.370939139964797e-12, landa: 1.0000015959378552\n",
      "it: 417, paso: 8.785587671338916e-12, landa: 1.000001595984205\n",
      "it: 418, paso: 1.76590312194303e-11, landa: 1.0000015960773705\n",
      "it: 419, paso: 3.5494652751212806e-11, landa: 1.0000015962646338\n",
      "it: 420, paso: 7.134425203057568e-11, landa: 1.0000015966410327\n",
      "it: 421, paso: 1.4340194658403448e-10, landa: 1.0000015973975984\n",
      "it: 422, paso: 2.8823791264432206e-10, landa: 1.000001598918295\n",
      "it: 423, paso: 5.793582044571561e-10, landa: 1.000001601974891\n",
      "it: 424, paso: 1.1645099911288458e-09, landa: 1.0000016081186478\n",
      "it: 425, paso: 5.851662707139108e-10, landa: 1.0000016204676048\n",
      "it: 426, paso: 1.837787819231793e-11, landa: 1.0000016266729572\n",
      "it: 427, paso: 1.1543604739603144e-12, landa: 1.0000016268678433\n",
      "it: 428, paso: 2.320264552660906e-12, landa: 1.0000016268800833\n",
      "it: 429, paso: 4.663731750851148e-12, landa: 1.0000016269046883\n",
      "it: 430, paso: 9.374100819221819e-12, landa: 1.0000016269541454\n",
      "it: 431, paso: 1.8841942646680345e-11, landa: 1.0000016270535486\n",
      "it: 432, paso: 3.787230472000725e-11, landa: 1.000001627253354\n",
      "it: 433, paso: 7.612333248794086e-11, landa: 1.0000016276549704\n",
      "it: 434, paso: 1.5300789830369534e-10, landa: 1.0000016284622137\n",
      "it: 435, paso: 3.075458756022821e-10, landa: 1.0000016300847763\n",
      "it: 436, paso: 6.181672100084805e-10, landa: 1.0000016333461228\n",
      "it: 437, paso: 1.2425160923105408e-09, landa: 1.0000016399014295\n",
      "it: 438, paso: 3.1218216829074076e-10, landa: 1.0000016530775955\n",
      "it: 439, paso: 7.843576978921718e-11, landa: 1.0000016563881085\n",
      "it: 440, paso: 4.926746789982553e-12, landa: 1.000001657219872\n",
      "it: 441, paso: 2.4756902619693047e-12, landa: 1.000001657272118\n",
      "it: 442, paso: 1.2440343566403515e-12, landa: 1.0000016572983725\n",
      "it: 443, paso: 1.2502545284239447e-12, landa: 1.0000016573115647\n",
      "it: 444, paso: 2.5130116021329205e-12, landa: 1.0000016573248256\n",
      "it: 445, paso: 5.051153320290369e-12, landa: 1.000001657351477\n",
      "it: 446, paso: 1.0152818173796558e-11, landa: 1.000001657405042\n",
      "it: 447, paso: 2.0407164529383273e-11, landa: 1.0000016575127064\n",
      "it: 448, paso: 4.101840070427125e-11, landa: 1.0000016577291113\n",
      "it: 449, paso: 8.244698541643716e-11, landa: 1.0000016581640883\n",
      "it: 450, paso: 1.6571844069048062e-10, landa: 1.0000016590383867\n",
      "it: 451, paso: 3.330940658017719e-10, landa: 1.0000016607957363\n",
      "it: 452, paso: 6.695190723177428e-10, landa: 1.000001664328008\n",
      "it: 453, paso: 1.345733335585641e-09, landa: 1.0000016714278712\n",
      "it: 454, paso: 8.452887517012973e-11, landa: 1.0000016856985974\n",
      "it: 455, paso: 4.2475759773894684e-11, landa: 1.000001686594975\n",
      "it: 456, paso: 1.0672034643305237e-11, landa: 1.0000016870454067\n",
      "it: 457, paso: 6.703371760344122e-13, landa: 1.0000016871585748\n",
      "it: 458, paso: 1.3473777238293958e-12, landa: 1.0000016871656832\n",
      "it: 459, paso: 2.7082292248980048e-12, landa: 1.0000016871799724\n",
      "it: 460, paso: 5.4435407420487034e-12, landa: 1.0000016872086945\n",
      "it: 461, paso: 1.0941516891532898e-11, landa: 1.000001687266422\n",
      "it: 462, paso: 2.199244895204174e-11, landa: 1.0000016873824513\n",
      "it: 463, paso: 4.4204822393848805e-11, landa: 1.000001687615669\n",
      "it: 464, paso: 8.885169301262555e-11, landa: 1.0000016880844336\n",
      "it: 465, paso: 1.7859190295937483e-10, landa: 1.0000016890266537\n",
      "it: 466, paso: 3.589697249644936e-10, landa: 1.0000016909205176\n",
      "it: 467, paso: 7.215291472438812e-10, landa: 1.000001694727183\n",
      "it: 468, paso: 7.251367931119066e-10, landa: 1.0000017023785857\n",
      "it: 469, paso: 3.6438123860529674e-10, landa: 1.000001710068242\n",
      "it: 470, paso: 1.831015724159693e-10, landa: 1.0000017139322952\n",
      "it: 471, paso: 4.600427007163431e-11, landa: 1.0000017158739805\n",
      "it: 472, paso: 1.1558572855632074e-11, landa: 1.0000017163618273\n",
      "it: 473, paso: 1.4520457149930073e-12, landa: 1.0000017164843966\n",
      "it: 474, paso: 7.296529717842531e-13, landa: 1.000001716499795\n",
      "it: 475, paso: 1.4666024732866182e-12, landa: 1.0000017165075323\n",
      "it: 476, paso: 7.369677428267977e-13, landa: 1.0000017165230852\n",
      "it: 477, paso: 1.4813051630821386e-12, landa: 1.0000017165308999\n",
      "it: 478, paso: 2.977423377796209e-12, landa: 1.0000017165466053\n",
      "it: 479, paso: 5.9846209893748684e-12, landa: 1.000001716578179\n",
      "it: 480, paso: 1.2029088188661622e-11, landa: 1.0000017166416466\n",
      "it: 481, paso: 2.417846725928312e-11, landa: 1.0000017167692081\n",
      "it: 482, paso: 4.8598719191455104e-11, landa: 1.0000017170256061\n",
      "it: 483, paso: 9.768342557602066e-11, landa: 1.000001717540967\n",
      "it: 484, paso: 1.9634368541263322e-10, landa: 1.0000017185768426\n",
      "it: 485, paso: 3.9465080769891327e-10, landa: 1.0000017206589529\n",
      "it: 486, paso: 7.932481235536805e-10, landa: 1.000001724843998\n",
      "it: 487, paso: 7.972143643307599e-10, landa: 1.0000017332559363\n",
      "it: 488, paso: 2.0030010907833039e-10, landa: 1.0000017417099347\n",
      "it: 489, paso: 1.006508048169398e-10, landa: 1.000001743834003\n",
      "it: 490, paso: 2.5288514710897335e-11, landa: 1.0000017449013479\n",
      "it: 491, paso: 1.2707478642306864e-11, landa: 1.000001745169517\n",
      "it: 492, paso: 6.3855080177796406e-12, landa: 1.0000017453042715\n",
      "it: 493, paso: 1.283487111575772e-11, landa: 1.0000017453719838\n",
      "it: 494, paso: 2.5798090942756427e-11, landa: 1.0000017455080914\n",
      "it: 495, paso: 5.185416279527742e-11, landa: 1.000001745781666\n",
      "it: 496, paso: 1.0422686721986916e-10, landa: 1.0000017463315494\n",
      "it: 497, paso: 2.0949600311743765e-10, landa: 1.0000017474368155\n",
      "it: 498, paso: 4.210869662882729e-10, landa: 1.0000017496583993\n",
      "it: 499, paso: 8.463848023292131e-10, landa: 1.0000017541237851\n"
     ]
    }
   ],
   "source": [
    "#x va a ser los puntos iniciales (distintas distribuciones)\n",
    "#y van a ser los transportados (baricentro)\n",
    "\n",
    "\n",
    "niter=500\n",
    "learningrate0=0.1 #TODO \n",
    "beta=1  #es el alpha que pone tabak #TODO\n",
    "landamax=1e15 #TODO\n",
    "landa0=0.001#TODO\n",
    "\n",
    "\n",
    "y=x\n",
    "C=armar_C_categorico(z) #en z pongo fila a fila los distintos valores de z\n",
    "landa=landa0\n",
    "learningrate=learningrate0\n",
    "n=0\n",
    "\n",
    "while (n<niter):\n",
    "    learningrate=min(learningrate*2.01,learningrate0)\n",
    "    \n",
    "    \n",
    "    #cost,cost_grad=fermat_cost(y.flatten(),x,dimension,f_dist,tree,data,k,alpha)\n",
    "    cost,cost_grad=euclidean_cost(y.flatten(),x)\n",
    "    \n",
    "    \n",
    "    grad_matrix=grad_matrix_y(y)\n",
    "    f_grad=fgrad(y,grad_matrix,C)\n",
    "    landamin=beta-landamin_actualizacion(cost_grad,f_grad)\n",
    "    \n",
    "    \n",
    "    \n",
    "    if(landamin>landa and landamin<landamax): \n",
    "        landa=landamin\n",
    "    elif(landamin>landamax): \n",
    "        landa=landamax\n",
    "    \n",
    "    \n",
    "    gradienteLagrangiano=lagrangiano_grad(landa,cost_grad,f_grad)\n",
    "    yviejo=y\n",
    "    costviejo=cost\n",
    "    \n",
    "   \n",
    "    while(True):\n",
    "        y=(yviejo.flatten()-(learningrate*gradienteLagrangiano)).reshape(yviejo.shape)        \n",
    "        kernel_matrix=kernel_matrix_y(y) \n",
    "        \n",
    "        #cost,cost_grad=fermat_cost(y.flatten(),x,dimension,f_dist,tree,data,k,alpha)\n",
    "        cost,cost_grad=euclidean_cost(y.flatten(),x)\n",
    "        \n",
    "        if(lagrangiano(landa,kernel_matrix,C,cost)<=lagrangiano(landa,kernel_matrix,C,costviejo)): \n",
    "            break #es que el lagrangiano nuevo disminuyo efectivamente (uso el y nuevo en ambos -kernel_matrix- pero el costo que a cada uno le corresponde)\n",
    "        learningrate=learningrate/2             \n",
    "        \n",
    "    print(\"it: \"+str(n)+\", paso: \"+str(learningrate*np.linalg.norm(gradienteLagrangiano))+\", landa: \"+str(landa))\n",
    "    n=n+1       "
   ]
  },
  {
   "cell_type": "markdown",
   "metadata": {},
   "source": [
    "Veamos que quedo.... Rojo y azul son las dos distribuciones, amarillo los puntos de la superficie. En cruces  vemos el resultado del algoritmo (A donde fue a parar cada punto)"
   ]
  },
  {
   "cell_type": "code",
   "execution_count": 794,
   "metadata": {},
   "outputs": [
    {
     "data": {
      "image/png": "[encoded data removed]",
      "text/plain": [
       "<Figure size 432x288 with 1 Axes>"
      ]
     },
     "metadata": {
      "needs_background": "light"
     },
     "output_type": "display_data"
    }
   ],
   "source": [
    "plt.plot(W[:,0],W[:,1],'.',c='y')\n",
    "plt.plot(x1,x2,'.',c='r')\n",
    "plt.plot(y1,y2,'.',c='b')\n",
    "plt.plot(y[:puntos,0],y[:puntos,1],'x',c='r')\n",
    "plt.plot(y[puntos:,0],y[puntos:,1],'x',c='b')\n",
    "plt.axis('equal')\n",
    "plt.title('puntos Rojos es una distribucion, azul otra y amarillo es la superficie. Cruces el baricentro')\n",
    "plt.show()"
   ]
  },
  {
   "cell_type": "code",
   "execution_count": null,
   "metadata": {},
   "outputs": [],
   "source": []
  },
  {
   "cell_type": "code",
   "execution_count": null,
   "metadata": {
    "collapsed": true
   },
   "outputs": [],
   "source": []
  },
  {
   "cell_type": "code",
   "execution_count": null,
   "metadata": {
    "collapsed": true
   },
   "outputs": [],
   "source": []
  },
  {
   "cell_type": "code",
   "execution_count": null,
   "metadata": {
    "collapsed": true
   },
   "outputs": [],
   "source": []
  },
  {
   "cell_type": "code",
   "execution_count": null,
   "metadata": {
    "collapsed": true
   },
   "outputs": [],
   "source": []
  },
  {
   "cell_type": "code",
   "execution_count": null,
   "metadata": {
    "collapsed": true
   },
   "outputs": [],
   "source": []
  },
  {
   "cell_type": "code",
   "execution_count": null,
   "metadata": {
    "collapsed": true
   },
   "outputs": [],
   "source": []
  },
  {
   "cell_type": "code",
   "execution_count": null,
   "metadata": {
    "collapsed": true
   },
   "outputs": [],
   "source": []
  },
  {
   "cell_type": "code",
   "execution_count": null,
   "metadata": {
    "collapsed": true
   },
   "outputs": [],
   "source": []
  },
  {
   "cell_type": "code",
   "execution_count": null,
   "metadata": {
    "collapsed": true
   },
   "outputs": [],
   "source": []
  },
  {
   "cell_type": "code",
   "execution_count": null,
   "metadata": {
    "collapsed": true
   },
   "outputs": [],
   "source": []
  },
  {
   "cell_type": "code",
   "execution_count": null,
   "metadata": {
    "collapsed": true
   },
   "outputs": [],
   "source": []
  },
  {
   "cell_type": "code",
   "execution_count": null,
   "metadata": {
    "collapsed": true
   },
   "outputs": [],
   "source": []
  },
  {
   "cell_type": "code",
   "execution_count": null,
   "metadata": {
    "collapsed": true
   },
   "outputs": [],
   "source": []
  },
  {
   "cell_type": "markdown",
   "metadata": {},
   "source": [
    "# Ignorar, son pruebas de aca para abajo"
   ]
  },
  {
   "cell_type": "markdown",
   "metadata": {
    "collapsed": true
   },
   "source": [
    "esto dio con 10.000 iteraciones"
   ]
  },
  {
   "cell_type": "code",
   "execution_count": 67,
   "metadata": {},
   "outputs": [
    {
     "data": {
      "image/png": "[encoded data removed]",
      "text/plain": [
       "<Figure size 432x288 with 1 Axes>"
      ]
     },
     "metadata": {
      "needs_background": "light"
     },
     "output_type": "display_data"
    }
   ],
   "source": [
    "plt.plot(W[:,0],W[:,1],'.',c='y')\n",
    "plt.plot(x1,x2,'.',c='r')\n",
    "plt.plot(y1,y2,'.',c='b')\n",
    "plt.plot(y[:,0],y[:,1],'x',c='g')\n",
    "plt.axis('equal')\n",
    "plt.title('Rojo es una distribucion, azul otra y amarillo es la superficie.')\n",
    "plt.show()"
   ]
  },
  {
   "cell_type": "markdown",
   "metadata": {},
   "source": [
    "Esto dio con 500 iteraciones, va queriendo..."
   ]
  },
  {
   "cell_type": "code",
   "execution_count": 64,
   "metadata": {},
   "outputs": [
    {
     "data": {
      "image/png": "[encoded data removed]",
      "text/plain": [
       "<Figure size 432x288 with 1 Axes>"
      ]
     },
     "metadata": {
      "needs_background": "light"
     },
     "output_type": "display_data"
    }
   ],
   "source": [
    "plt.plot(W[:,0],W[:,1],'.',c='y')\n",
    "plt.plot(x1,x2,'.',c='r')\n",
    "plt.plot(y1,y2,'.',c='b')\n",
    "plt.plot(y[:,0],y[:,1],'x',c='g')\n",
    "plt.axis('equal')\n",
    "plt.title('Rojo es una distribucion, azul otra y amarillo es la superficie.')\n",
    "plt.show()"
   ]
  },
  {
   "cell_type": "code",
   "execution_count": 68,
   "metadata": {
    "collapsed": true
   },
   "outputs": [],
   "source": [
    "hice10000=y"
   ]
  },
  {
   "cell_type": "code",
   "execution_count": null,
   "metadata": {
    "collapsed": true
   },
   "outputs": [],
   "source": []
  },
  {
   "cell_type": "code",
   "execution_count": null,
   "metadata": {
    "collapsed": true
   },
   "outputs": [],
   "source": []
  },
  {
   "cell_type": "code",
   "execution_count": null,
   "metadata": {
    "collapsed": true
   },
   "outputs": [],
   "source": []
  },
  {
   "cell_type": "code",
   "execution_count": null,
   "metadata": {
    "collapsed": true
   },
   "outputs": [],
   "source": []
  },
  {
   "cell_type": "code",
   "execution_count": null,
   "metadata": {
    "collapsed": true
   },
   "outputs": [],
   "source": []
  },
  {
   "cell_type": "code",
   "execution_count": null,
   "metadata": {
    "collapsed": true
   },
   "outputs": [],
   "source": []
  },
  {
   "cell_type": "code",
   "execution_count": null,
   "metadata": {
    "collapsed": true
   },
   "outputs": [],
   "source": []
  },
  {
   "cell_type": "code",
   "execution_count": null,
   "metadata": {
    "collapsed": true
   },
   "outputs": [],
   "source": []
  },
  {
   "cell_type": "code",
   "execution_count": 154,
   "metadata": {
    "collapsed": true
   },
   "outputs": [],
   "source": [
    "def kernel_matrix_y(y):\n",
    "    def fu(i,j):\n",
    "        return kernel(y[i,:],y[j,:])\n",
    "    f=np.vectorize(fu)\n",
    "    return np.fromfunction(f,(y.shape[0],y.shape[0]),dtype=int)  \n",
    "    \n",
    "    \n",
    "def grad_matrix_y(y):\n",
    "    def fu2(i,j,d):\n",
    "        return kernel_grad(y[i,:],y[j,:])[d]\n",
    "    f2=np.vectorize(fu2)\n",
    "    return np.fromfunction(f2,(y.shape[0],y.shape[0],dimension),dtype=int)  "
   ]
  }
 ],
 "metadata": {
  "kernelspec": {
   "display_name": "Python 3",
   "language": "python",
   "name": "python3"
  },
  "language_info": {
   "codemirror_mode": {
    "name": "ipython",
    "version": 3
   },
   "file_extension": ".py",
   "mimetype": "text/x-python",
   "name": "python",
   "nbconvert_exporter": "python",
   "pygments_lexer": "ipython3",
   "version": "3.5.2"
  }
 },
 "nbformat": 4,
 "nbformat_minor": 2
}
