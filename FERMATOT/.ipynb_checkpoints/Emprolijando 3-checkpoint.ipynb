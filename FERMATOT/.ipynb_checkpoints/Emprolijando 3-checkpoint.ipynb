{
 "cells": [
  {
   "cell_type": "code",
   "execution_count": 1,
   "metadata": {
    "collapsed": true
   },
   "outputs": [],
   "source": [
    "import fermat as F\n",
    "import numpy as np\n",
    "import scipy.sparse as sp\n",
    "from scipy.spatial import  distance_matrix\n",
    "from sklearn.manifold import TSNE\n",
    "from scipy.optimize import minimize\n",
    "from sklearn.neighbors import KDTree\n",
    "from scipy.optimize import LinearConstraint\n",
    "from scipy.sparse import csr_matrix\n",
    "\n",
    "\n",
    "from mpl_toolkits.mplot3d import Axes3D\n",
    "import matplotlib.pyplot as plt"
   ]
  },
  {
   "cell_type": "markdown",
   "metadata": {},
   "source": [
    "## 'data' is always given as np matrix where each row is a point in R**(#columns)\n",
    "\n",
    "### fermat distance between two points (x,y) outside the manifold: choose the closest neighbour x' of the starting point  x and cost will be cost(x',y)+euclid_dist(x,x')**alpha\n",
    "# SE PUEDE MEJORAR!?? OJO QUE EUCLID_DIST(X,X')  PORQUE EL MISMO PUNTO TIENE DISTANCIA POSITIVA CON SI MISMO!!\n",
    "\n",
    "### gradient on y of fermat_dist(x,y) with x,y outside the manifold:  the k-nn of y with smallest fermat_cost(x',y)"
   ]
  },
  {
   "cell_type": "code",
   "execution_count": 2,
   "metadata": {
    "collapsed": true
   },
   "outputs": [],
   "source": [
    "#Builds fermat graph given data, alpha, method (and if 'D' is chosen with k_fermat neighbours)\n",
    "#RETURNS: fermat distance matrix between points of data and a KD-Tree \n",
    "\n",
    "\n",
    "def fermat_graph(data,alpha,method='FW',k_fermat=30):\n",
    "    model=F.Fermat(alpha, path_method=method,k=k_fermat)\n",
    "    model.fit(np.matrix(distance_matrix(data,data)))\n",
    "    fermat_distances = model.get_distances()\n",
    "    tree = KDTree(data, leaf_size=2)\n",
    "    return fermat_distances,tree\n",
    "              \n",
    "\n",
    "#Computes fermat_cost of transporting initialData to x with the given fermat_distances\n",
    "#initial data will be points\n",
    "\n",
    "#It uses the KD-Tree built with fermat_graph() as well as a parameter 'k' which is \n",
    "#the amount of neighbours to look at when getting the fermat distance for a point that\n",
    "#is not in the graph (including it may be computationally expensive)\n",
    "#It also recieves the original data and the alpha used to build fermat_distances\n",
    "              \n",
    "#RETURNS: fermat cost and gradient of that cost\n",
    "def fermat_cost(x,initialData,dimension,fermat_distances,tree,data,k,alpha):\n",
    "    assert(len(x)==(initialData.shape[0])*dimension)\n",
    "    real_x=x.reshape(-1,dimension)     \n",
    "    res=0\n",
    "    gradient=np.zeros(x.shape)\n",
    "    for i in range(initialData.shape[0]):\n",
    "        dist,grad_idx=fermat_dist(initialData[i,:],real_x[i,:],fermat_distances,tree,k,alpha) \n",
    "        q=data[grad_idx,:] \n",
    "        local_grad=alpha*(np.linalg.norm(q-real_x[i,:])**(alpha-2))*(real_x[i,:]-q)\n",
    "        \n",
    "        res+=dist                      \n",
    "        gradient[dimension*i:dimension*(i+1)]=local_grad\n",
    "    return res,gradient\n",
    "\n",
    "\n",
    "#Computes fermat distance between start  and end using fermat_distances\n",
    "              \n",
    "#it also recieves the KD-tree, numbre of neighbours to look at, and alpha used in fermat\n",
    "              \n",
    "#RETURNS: fermat distance between start and end, as well as the index of the k-nearest neighbour\n",
    "#of end with smallest fermat distance to start\n",
    "def fermat_dist(start,end,fermat_distances,tree,k,alpha):\n",
    "    \n",
    "    start_euclid_dist,start_ind=tree.query([start],k=1)\n",
    "    idx=start_ind[0,0]\n",
    "    start_euclid_dist=np.power(start_euclid_dist,alpha)\n",
    "    \n",
    "    end_euclid_dist,end_ind=tree.query([end],k=k)\n",
    "    end_euclid_dist=np.power(end_euclid_dist,alpha)\n",
    "        \n",
    "    dist=min([ fermat_distances[idx,end_ind[0,i]]+end_euclid_dist[0,i] for i in range(end_euclid_dist.shape[1])])\n",
    "    \n",
    "    minim=np.argmin([ fermat_distances[idx,end_ind[0,i]] for i in range(end_ind.shape[1])]) \n",
    "    grad_idx=end_ind[0,minim] #index of k-nearest neighbour with smallest fermat_distance to idx.\n",
    "    \n",
    "    return dist+start_euclid_dist[0,0],grad_idx\n",
    "              \n",
    "\n",
    "#Here initialData are the points, and x the trasnportation of those\n",
    "##UNUSED\n",
    "def euclidean_cost(x,initialData):\n",
    "    assert(len(initialData.flatten())==len(x))\n",
    "    dimension=initialData.shape[1]\n",
    "    real_x=x.reshape(-1,dimension)\n",
    "    res=0\n",
    "    gradient=np.zeros(x.shape)\n",
    "    for i in range(initialData.shape[0]):\n",
    "        res+=np.linalg.norm(initialData[i,:]-real_x[i,:])\n",
    "        local_gradient=2*(real_x[i,:]-initialData[i,:])\n",
    "        gradient[dimension*i:(i+1)*dimension]=local_gradient\n",
    "    return res,gradient\n"
   ]
  },
  {
   "cell_type": "markdown",
   "metadata": {},
   "source": [
    "A small example using these costs"
   ]
  },
  {
   "cell_type": "code",
   "execution_count": 3,
   "metadata": {},
   "outputs": [
    {
     "name": "stdout",
     "output_type": "stream",
     "text": [
      "(6.6307396287515745, array([1.8868877 , 1.08459679, 0.87828157, 1.39977234, 0.64835057,\n",
      "       0.29036051, 1.51558128, 1.34519811, 1.50896928, 1.59848929,\n",
      "       0.58555059, 0.19925634, 0.53140443, 1.81030093, 1.9630372 ,\n",
      "       0.34022336]))\n"
     ]
    },
    {
     "data": {
      "text/plain": [
       "(2.8127700823011423,\n",
       " array([0.64835057, 0.29036051, 0.64835057, 0.29036051, 0.64835057,\n",
       "        0.29036051, 0.64835057, 0.29036051, 0.64835057, 0.29036051,\n",
       "        0.58555059, 0.19925634, 0.64835057, 0.29036051, 0.64835057,\n",
       "        0.29036051]))"
      ]
     },
     "execution_count": 3,
     "metadata": {},
     "output_type": "execute_result"
    }
   ],
   "source": [
    "data=np.random.random((10,2))\n",
    "\n",
    "x=np.ones(16)\n",
    "\n",
    "##Euclidean\n",
    "print(euclidean_cost(x,data[0:8,:]))\n",
    "\n",
    "##Fermat\n",
    "\n",
    "initialData=data[0:8,:]\n",
    "dimension=2\n",
    "alpha=2\n",
    "k=2\n",
    "f_dist,tree=fermat_graph(data,alpha=alpha)\n",
    "\n",
    "\n",
    "fermat_cost(x,initialData,dimension,f_dist,tree,data,k,alpha)"
   ]
  },
  {
   "cell_type": "markdown",
   "metadata": {},
   "source": [
    "# To do: add kernels"
   ]
  },
  {
   "cell_type": "code",
   "execution_count": 4,
   "metadata": {
    "collapsed": true
   },
   "outputs": [],
   "source": [
    "##Minimize the transported of initialData (indexes of points from data) given the fermat_distances\n",
    "#it recieves other parameters explained before as well as constraints, xinit and maxiter and method\n",
    "#for the constrained-minimization\n",
    "def fermat_opt_transport(initialData,dimension,fermat_distances,tree,data,k,alpha,cons,xinit,maxiter=100,method='trust-constr',callback=True):\n",
    "    \n",
    "    opt={\"disp\": False, \"maxiter\":maxiter}\n",
    "    \n",
    "    f= lambda x: fermat_cost(x,initialData,dimension,fermat_distances,tree,data,k,alpha)\n",
    "    \n",
    "    global Nfeval\n",
    "    Nfeval=1\n",
    "    if callback:\n",
    "        def callbackF(Xi,status):\n",
    "            global Nfeval\n",
    "            print ('Iter:'+ str(Nfeval)+', cost: '+str(f(Xi)[0])+',  max constr-viol:'+ str(np.max([abs(con['fun'](Xi)) for con in cons])))\n",
    "            Nfeval += 1\n",
    "    else:\n",
    "        callbackF=None\n",
    "    \n",
    "    res = minimize(f, x0=xinit.flatten(), jac=True,constraints=cons,options=opt, method=method,callback=callbackF)\n",
    "    return res\n",
    "\n",
    "    \n",
    "def constraints(initialPoints,finalData,first_moment=True, second_moment=True, kernel_centers=None, kernel_h=None):\n",
    "    dimension=finalData.shape[1]\n",
    "    finalPoints=finalData.shape[0]\n",
    "    Y=finalData.flatten()\n",
    "    cons=[]\n",
    "    \n",
    "    \n",
    "    if first_moment:\n",
    "        global aux\n",
    "        aux=[]\n",
    "        global b\n",
    "        b=np.mean(finalData,axis=0)\n",
    "        for i in range(dimension):\n",
    "            to_repeat=np.array([1 if j==i else 0 for j in range(dimension)])\n",
    "            aux.append(np.tile(to_repeat,initialPoints)/initialPoints)\n",
    "            cons.append({'type': 'eq', 'fun': lambda x,i=i: aux[i]@x.T - b[i] ,'jac': lambda x,i=i: aux[i]})\n",
    "            #HAY QUE PONER LAMBDA CON DOS PARAMETROS PARA QUE FIJE EL i Y NO LO CAMBIE\n",
    "    \n",
    "    select_restrictions=np.zeros((dimension,dimension))\n",
    "    id_initialPoints=sp.eye(initialPoints)\n",
    "    id_finalPoints=sp.eye(finalPoints)\n",
    "    if second_moment:\n",
    "        global A,B\n",
    "        A=[]\n",
    "        B=[]\n",
    "        ij=0\n",
    "        for i in range(dimension):\n",
    "            for j in range(i,dimension):\n",
    "                select_restrictions[j,i]=1\n",
    "                A.append(sp.kron(id_initialPoints,select_restrictions)/initialPoints)               \n",
    "                B.append(sp.kron(id_finalPoints,select_restrictions)/finalPoints)\n",
    "                cons.append({'type': 'eq', 'fun': lambda x,ij=ij: (x@A[ij]@x.T)-(Y@B[ij]@Y.T),'jac': lambda x,ij=ij: 2*A[ij]@x.T})\n",
    "                #HAY QUE PONER LAMBDA CON DOS PARAMETROS PARA QUE FIJE EL i Y NO LO CAMBIE\n",
    "                select_restrictions[j,i]=0\n",
    "                ij+=1\n",
    "                \n",
    "    ##TODO: IMPLEMENTAR LOS KERNEL\n",
    "    \n",
    "    return cons\n"
   ]
  },
  {
   "cell_type": "markdown",
   "metadata": {},
   "source": [
    "A small example using fermat_opt_transport"
   ]
  },
  {
   "cell_type": "code",
   "execution_count": 5,
   "metadata": {},
   "outputs": [
    {
     "name": "stdout",
     "output_type": "stream",
     "text": [
      "Iter:1, cost: 0.0,  max constr-viol:20.290984154846747\n",
      "Iter:2, cost: 0.5656137880729631,  max constr-viol:20.02767475051727\n"
     ]
    },
    {
     "name": "stderr",
     "output_type": "stream",
     "text": [
      "/home/peron/.local/lib/python3.5/site-packages/scipy/optimize/_hessian_update_strategy.py:187: UserWarning: delta_grad == 0.0. Check if the approximated function is linear. If the function is linear better results can be obtained by defining the Hessian as zero instead of using quasi-Newton approximations.\n",
      "  'approximations.', UserWarning)\n",
      "/home/peron/.local/lib/python3.5/site-packages/scipy/optimize/_hessian_update_strategy.py:187: UserWarning: delta_grad == 0.0. Check if the approximated function is linear. If the function is linear better results can be obtained by defining the Hessian as zero instead of using quasi-Newton approximations.\n",
      "  'approximations.', UserWarning)\n"
     ]
    },
    {
     "name": "stdout",
     "output_type": "stream",
     "text": [
      "Iter:3, cost: 21.770654853600632,  max constr-viol:17.841122669295125\n",
      "Iter:4, cost: 21.770654853600632,  max constr-viol:17.841122669295125\n"
     ]
    },
    {
     "name": "stderr",
     "output_type": "stream",
     "text": [
      "/home/peron/.local/lib/python3.5/site-packages/scipy/optimize/_hessian_update_strategy.py:187: UserWarning: delta_grad == 0.0. Check if the approximated function is linear. If the function is linear better results can be obtained by defining the Hessian as zero instead of using quasi-Newton approximations.\n",
      "  'approximations.', UserWarning)\n",
      "/home/peron/.local/lib/python3.5/site-packages/scipy/optimize/_hessian_update_strategy.py:187: UserWarning: delta_grad == 0.0. Check if the approximated function is linear. If the function is linear better results can be obtained by defining the Hessian as zero instead of using quasi-Newton approximations.\n",
      "  'approximations.', UserWarning)\n"
     ]
    },
    {
     "name": "stdout",
     "output_type": "stream",
     "text": [
      "Iter:5, cost: 52.14984941717877,  max constr-viol:16.151833709955945\n"
     ]
    },
    {
     "name": "stderr",
     "output_type": "stream",
     "text": [
      "/home/peron/.local/lib/python3.5/site-packages/scipy/optimize/_hessian_update_strategy.py:187: UserWarning: delta_grad == 0.0. Check if the approximated function is linear. If the function is linear better results can be obtained by defining the Hessian as zero instead of using quasi-Newton approximations.\n",
      "  'approximations.', UserWarning)\n"
     ]
    },
    {
     "name": "stdout",
     "output_type": "stream",
     "text": [
      "Iter:6, cost: 52.14984941717877,  max constr-viol:16.151833709955945\n"
     ]
    },
    {
     "name": "stderr",
     "output_type": "stream",
     "text": [
      "/home/peron/.local/lib/python3.5/site-packages/scipy/optimize/_hessian_update_strategy.py:187: UserWarning: delta_grad == 0.0. Check if the approximated function is linear. If the function is linear better results can be obtained by defining the Hessian as zero instead of using quasi-Newton approximations.\n",
      "  'approximations.', UserWarning)\n"
     ]
    },
    {
     "name": "stdout",
     "output_type": "stream",
     "text": [
      "Iter:7, cost: 148.65728199000608,  max constr-viol:11.629587655157454\n"
     ]
    },
    {
     "name": "stderr",
     "output_type": "stream",
     "text": [
      "/home/peron/.local/lib/python3.5/site-packages/scipy/optimize/_hessian_update_strategy.py:187: UserWarning: delta_grad == 0.0. Check if the approximated function is linear. If the function is linear better results can be obtained by defining the Hessian as zero instead of using quasi-Newton approximations.\n",
      "  'approximations.', UserWarning)\n"
     ]
    },
    {
     "name": "stdout",
     "output_type": "stream",
     "text": [
      "Iter:8, cost: 148.65728199000608,  max constr-viol:11.629587655157454\n"
     ]
    },
    {
     "name": "stderr",
     "output_type": "stream",
     "text": [
      "/home/peron/.local/lib/python3.5/site-packages/scipy/optimize/_hessian_update_strategy.py:187: UserWarning: delta_grad == 0.0. Check if the approximated function is linear. If the function is linear better results can be obtained by defining the Hessian as zero instead of using quasi-Newton approximations.\n",
      "  'approximations.', UserWarning)\n"
     ]
    },
    {
     "name": "stdout",
     "output_type": "stream",
     "text": [
      "Iter:9, cost: 217.32685529675064,  max constr-viol:5.831338948645277\n"
     ]
    },
    {
     "name": "stderr",
     "output_type": "stream",
     "text": [
      "/home/peron/.local/lib/python3.5/site-packages/scipy/optimize/_hessian_update_strategy.py:187: UserWarning: delta_grad == 0.0. Check if the approximated function is linear. If the function is linear better results can be obtained by defining the Hessian as zero instead of using quasi-Newton approximations.\n",
      "  'approximations.', UserWarning)\n",
      "/home/peron/.local/lib/python3.5/site-packages/scipy/optimize/_hessian_update_strategy.py:187: UserWarning: delta_grad == 0.0. Check if the approximated function is linear. If the function is linear better results can be obtained by defining the Hessian as zero instead of using quasi-Newton approximations.\n",
      "  'approximations.', UserWarning)\n"
     ]
    },
    {
     "name": "stdout",
     "output_type": "stream",
     "text": [
      "Iter:10, cost: 217.32685529675064,  max constr-viol:5.831338948645277\n",
      "Iter:11, cost: 218.10532544090495,  max constr-viol:2.222102045306986\n"
     ]
    },
    {
     "name": "stderr",
     "output_type": "stream",
     "text": [
      "/home/peron/.local/lib/python3.5/site-packages/scipy/optimize/_hessian_update_strategy.py:187: UserWarning: delta_grad == 0.0. Check if the approximated function is linear. If the function is linear better results can be obtained by defining the Hessian as zero instead of using quasi-Newton approximations.\n",
      "  'approximations.', UserWarning)\n"
     ]
    },
    {
     "name": "stdout",
     "output_type": "stream",
     "text": [
      "Iter:12, cost: 236.72666712793907,  max constr-viol:1.7575142626309876\n"
     ]
    },
    {
     "name": "stderr",
     "output_type": "stream",
     "text": [
      "/home/peron/.local/lib/python3.5/site-packages/scipy/optimize/_hessian_update_strategy.py:187: UserWarning: delta_grad == 0.0. Check if the approximated function is linear. If the function is linear better results can be obtained by defining the Hessian as zero instead of using quasi-Newton approximations.\n",
      "  'approximations.', UserWarning)\n"
     ]
    },
    {
     "name": "stdout",
     "output_type": "stream",
     "text": [
      "Iter:13, cost: 225.10562710164638,  max constr-viol:0.43314383004384993\n"
     ]
    },
    {
     "name": "stderr",
     "output_type": "stream",
     "text": [
      "/home/peron/.local/lib/python3.5/site-packages/scipy/optimize/_hessian_update_strategy.py:187: UserWarning: delta_grad == 0.0. Check if the approximated function is linear. If the function is linear better results can be obtained by defining the Hessian as zero instead of using quasi-Newton approximations.\n",
      "  'approximations.', UserWarning)\n"
     ]
    },
    {
     "name": "stdout",
     "output_type": "stream",
     "text": [
      "Iter:14, cost: 222.3145678025548,  max constr-viol:0.11757443141862467\n"
     ]
    },
    {
     "name": "stderr",
     "output_type": "stream",
     "text": [
      "/home/peron/.local/lib/python3.5/site-packages/scipy/optimize/_hessian_update_strategy.py:187: UserWarning: delta_grad == 0.0. Check if the approximated function is linear. If the function is linear better results can be obtained by defining the Hessian as zero instead of using quasi-Newton approximations.\n",
      "  'approximations.', UserWarning)\n",
      "/home/peron/.local/lib/python3.5/site-packages/scipy/optimize/_hessian_update_strategy.py:187: UserWarning: delta_grad == 0.0. Check if the approximated function is linear. If the function is linear better results can be obtained by defining the Hessian as zero instead of using quasi-Newton approximations.\n",
      "  'approximations.', UserWarning)\n"
     ]
    },
    {
     "name": "stdout",
     "output_type": "stream",
     "text": [
      "Iter:15, cost: 222.3145678025548,  max constr-viol:0.11757443141862467\n",
      "Iter:16, cost: 222.35270901250755,  max constr-viol:0.09332309722042709\n"
     ]
    },
    {
     "name": "stderr",
     "output_type": "stream",
     "text": [
      "/home/peron/.local/lib/python3.5/site-packages/scipy/optimize/_hessian_update_strategy.py:187: UserWarning: delta_grad == 0.0. Check if the approximated function is linear. If the function is linear better results can be obtained by defining the Hessian as zero instead of using quasi-Newton approximations.\n",
      "  'approximations.', UserWarning)\n"
     ]
    },
    {
     "name": "stdout",
     "output_type": "stream",
     "text": [
      "Iter:17, cost: 221.81361779576758,  max constr-viol:0.03973613588037139\n",
      "Iter:18, cost: 221.53609848636125,  max constr-viol:0.015351567369314978\n"
     ]
    },
    {
     "name": "stderr",
     "output_type": "stream",
     "text": [
      "/home/peron/.local/lib/python3.5/site-packages/scipy/optimize/_hessian_update_strategy.py:187: UserWarning: delta_grad == 0.0. Check if the approximated function is linear. If the function is linear better results can be obtained by defining the Hessian as zero instead of using quasi-Newton approximations.\n",
      "  'approximations.', UserWarning)\n",
      "/home/peron/.local/lib/python3.5/site-packages/scipy/optimize/_hessian_update_strategy.py:187: UserWarning: delta_grad == 0.0. Check if the approximated function is linear. If the function is linear better results can be obtained by defining the Hessian as zero instead of using quasi-Newton approximations.\n",
      "  'approximations.', UserWarning)\n"
     ]
    },
    {
     "name": "stdout",
     "output_type": "stream",
     "text": [
      "Iter:19, cost: 221.4989041000307,  max constr-viol:0.0076757836846503835\n",
      "Iter:20, cost: 221.49664481414345,  max constr-viol:0.0038378918423234154\n"
     ]
    },
    {
     "name": "stderr",
     "output_type": "stream",
     "text": [
      "/home/peron/.local/lib/python3.5/site-packages/scipy/optimize/_hessian_update_strategy.py:187: UserWarning: delta_grad == 0.0. Check if the approximated function is linear. If the function is linear better results can be obtained by defining the Hessian as zero instead of using quasi-Newton approximations.\n",
      "  'approximations.', UserWarning)\n",
      "/home/peron/.local/lib/python3.5/site-packages/scipy/optimize/_hessian_update_strategy.py:187: UserWarning: delta_grad == 0.0. Check if the approximated function is linear. If the function is linear better results can be obtained by defining the Hessian as zero instead of using quasi-Newton approximations.\n",
      "  'approximations.', UserWarning)\n"
     ]
    },
    {
     "name": "stdout",
     "output_type": "stream",
     "text": [
      "Iter:21, cost: 221.49595374072936,  max constr-viol:0.0019189459211617077\n"
     ]
    },
    {
     "name": "stderr",
     "output_type": "stream",
     "text": [
      "/home/peron/.local/lib/python3.5/site-packages/scipy/optimize/_hessian_update_strategy.py:187: UserWarning: delta_grad == 0.0. Check if the approximated function is linear. If the function is linear better results can be obtained by defining the Hessian as zero instead of using quasi-Newton approximations.\n",
      "  'approximations.', UserWarning)\n",
      "/home/peron/.local/lib/python3.5/site-packages/scipy/optimize/_hessian_update_strategy.py:187: UserWarning: delta_grad == 0.0. Check if the approximated function is linear. If the function is linear better results can be obtained by defining the Hessian as zero instead of using quasi-Newton approximations.\n",
      "  'approximations.', UserWarning)\n"
     ]
    },
    {
     "name": "stdout",
     "output_type": "stream",
     "text": [
      "Iter:22, cost: 221.4957837246258,  max constr-viol:0.0009594729605808539\n",
      "Iter:23, cost: 221.49574119137023,  max constr-viol:0.00047973648029397964\n",
      "Iter:24, cost: 221.49573055821122,  max constr-viol:0.00023986824014698982\n"
     ]
    },
    {
     "name": "stderr",
     "output_type": "stream",
     "text": [
      "/home/peron/.local/lib/python3.5/site-packages/scipy/optimize/_hessian_update_strategy.py:187: UserWarning: delta_grad == 0.0. Check if the approximated function is linear. If the function is linear better results can be obtained by defining the Hessian as zero instead of using quasi-Newton approximations.\n",
      "  'approximations.', UserWarning)\n",
      "/home/peron/.local/lib/python3.5/site-packages/scipy/optimize/_hessian_update_strategy.py:187: UserWarning: delta_grad == 0.0. Check if the approximated function is linear. If the function is linear better results can be obtained by defining the Hessian as zero instead of using quasi-Newton approximations.\n",
      "  'approximations.', UserWarning)\n",
      "/home/peron/.local/lib/python3.5/site-packages/scipy/optimize/_hessian_update_strategy.py:187: UserWarning: delta_grad == 0.0. Check if the approximated function is linear. If the function is linear better results can be obtained by defining the Hessian as zero instead of using quasi-Newton approximations.\n",
      "  'approximations.', UserWarning)\n"
     ]
    },
    {
     "name": "stdout",
     "output_type": "stream",
     "text": [
      "Iter:25, cost: 221.4957278999211,  max constr-viol:0.00011993412007171855\n",
      "Iter:26, cost: 221.49572723534857,  max constr-viol:5.9967060035859276e-05\n"
     ]
    },
    {
     "name": "stderr",
     "output_type": "stream",
     "text": [
      "/home/peron/.local/lib/python3.5/site-packages/scipy/optimize/_hessian_update_strategy.py:187: UserWarning: delta_grad == 0.0. Check if the approximated function is linear. If the function is linear better results can be obtained by defining the Hessian as zero instead of using quasi-Newton approximations.\n",
      "  'approximations.', UserWarning)\n"
     ]
    },
    {
     "name": "stdout",
     "output_type": "stream",
     "text": [
      "Iter:27, cost: 221.49572706920543,  max constr-viol:2.9983530019705995e-05\n"
     ]
    },
    {
     "name": "stderr",
     "output_type": "stream",
     "text": [
      "/home/peron/.local/lib/python3.5/site-packages/scipy/optimize/_hessian_update_strategy.py:187: UserWarning: delta_grad == 0.0. Check if the approximated function is linear. If the function is linear better results can be obtained by defining the Hessian as zero instead of using quasi-Newton approximations.\n",
      "  'approximations.', UserWarning)\n"
     ]
    },
    {
     "name": "stdout",
     "output_type": "stream",
     "text": [
      "Iter:28, cost: 221.49572702766966,  max constr-viol:1.4991765009852998e-05\n"
     ]
    },
    {
     "name": "stderr",
     "output_type": "stream",
     "text": [
      "/home/peron/.local/lib/python3.5/site-packages/scipy/optimize/_hessian_update_strategy.py:187: UserWarning: delta_grad == 0.0. Check if the approximated function is linear. If the function is linear better results can be obtained by defining the Hessian as zero instead of using quasi-Newton approximations.\n",
      "  'approximations.', UserWarning)\n"
     ]
    },
    {
     "name": "stdout",
     "output_type": "stream",
     "text": [
      "Iter:29, cost: 221.4957270172857,  max constr-viol:7.495882503150142e-06\n"
     ]
    },
    {
     "name": "stderr",
     "output_type": "stream",
     "text": [
      "/home/peron/.local/lib/python3.5/site-packages/scipy/optimize/_hessian_update_strategy.py:187: UserWarning: delta_grad == 0.0. Check if the approximated function is linear. If the function is linear better results can be obtained by defining the Hessian as zero instead of using quasi-Newton approximations.\n",
      "  'approximations.', UserWarning)\n"
     ]
    },
    {
     "name": "stdout",
     "output_type": "stream",
     "text": [
      "Iter:30, cost: 221.4957270146897,  max constr-viol:3.747941253351428e-06\n"
     ]
    },
    {
     "name": "stderr",
     "output_type": "stream",
     "text": [
      "/home/peron/.local/lib/python3.5/site-packages/scipy/optimize/_hessian_update_strategy.py:187: UserWarning: delta_grad == 0.0. Check if the approximated function is linear. If the function is linear better results can be obtained by defining the Hessian as zero instead of using quasi-Newton approximations.\n",
      "  'approximations.', UserWarning)\n"
     ]
    },
    {
     "name": "stdout",
     "output_type": "stream",
     "text": [
      "Iter:31, cost: 221.49572701404074,  max constr-viol:1.873970624899357e-06\n"
     ]
    },
    {
     "name": "stderr",
     "output_type": "stream",
     "text": [
      "/home/peron/.local/lib/python3.5/site-packages/scipy/optimize/_hessian_update_strategy.py:187: UserWarning: delta_grad == 0.0. Check if the approximated function is linear. If the function is linear better results can be obtained by defining the Hessian as zero instead of using quasi-Newton approximations.\n",
      "  'approximations.', UserWarning)\n"
     ]
    },
    {
     "name": "stdout",
     "output_type": "stream",
     "text": [
      "Iter:32, cost: 221.49572701387842,  max constr-viol:9.369853160023922e-07\n"
     ]
    },
    {
     "name": "stderr",
     "output_type": "stream",
     "text": [
      "/home/peron/.local/lib/python3.5/site-packages/scipy/optimize/_hessian_update_strategy.py:187: UserWarning: delta_grad == 0.0. Check if the approximated function is linear. If the function is linear better results can be obtained by defining the Hessian as zero instead of using quasi-Newton approximations.\n",
      "  'approximations.', UserWarning)\n"
     ]
    },
    {
     "name": "stdout",
     "output_type": "stream",
     "text": [
      "Iter:33, cost: 221.4957270138379,  max constr-viol:4.684926580011961e-07\n"
     ]
    },
    {
     "name": "stderr",
     "output_type": "stream",
     "text": [
      "/home/peron/.local/lib/python3.5/site-packages/scipy/optimize/_hessian_update_strategy.py:187: UserWarning: delta_grad == 0.0. Check if the approximated function is linear. If the function is linear better results can be obtained by defining the Hessian as zero instead of using quasi-Newton approximations.\n",
      "  'approximations.', UserWarning)\n"
     ]
    },
    {
     "name": "stdout",
     "output_type": "stream",
     "text": [
      "Iter:34, cost: 221.4957270138278,  max constr-viol:2.3424632544788437e-07\n",
      "Iter:35, cost: 221.49572701382522,  max constr-viol:1.1712316450029903e-07\n"
     ]
    },
    {
     "name": "stderr",
     "output_type": "stream",
     "text": [
      "/home/peron/.local/lib/python3.5/site-packages/scipy/optimize/_hessian_update_strategy.py:187: UserWarning: delta_grad == 0.0. Check if the approximated function is linear. If the function is linear better results can be obtained by defining the Hessian as zero instead of using quasi-Newton approximations.\n",
      "  'approximations.', UserWarning)\n",
      "/home/peron/.local/lib/python3.5/site-packages/scipy/optimize/_hessian_update_strategy.py:187: UserWarning: delta_grad == 0.0. Check if the approximated function is linear. If the function is linear better results can be obtained by defining the Hessian as zero instead of using quasi-Newton approximations.\n",
      "  'approximations.', UserWarning)\n"
     ]
    },
    {
     "name": "stdout",
     "output_type": "stream",
     "text": [
      "Iter:36, cost: 221.49572701382453,  max constr-viol:5.856158225014951e-08\n"
     ]
    },
    {
     "name": "stderr",
     "output_type": "stream",
     "text": [
      "/home/peron/.local/lib/python3.5/site-packages/scipy/optimize/_hessian_update_strategy.py:187: UserWarning: delta_grad == 0.0. Check if the approximated function is linear. If the function is linear better results can be obtained by defining the Hessian as zero instead of using quasi-Newton approximations.\n",
      "  'approximations.', UserWarning)\n",
      "/home/peron/.local/lib/python3.5/site-packages/scipy/optimize/_hessian_update_strategy.py:187: UserWarning: delta_grad == 0.0. Check if the approximated function is linear. If the function is linear better results can be obtained by defining the Hessian as zero instead of using quasi-Newton approximations.\n",
      "  'approximations.', UserWarning)\n"
     ]
    },
    {
     "name": "stdout",
     "output_type": "stream",
     "text": [
      "Iter:37, cost: 221.49572701382442,  max constr-viol:2.9280791125074757e-08\n",
      "Iter:38, cost: 221.4957270138244,  max constr-viol:1.4640395562537378e-08\n",
      "Iter:39, cost: 221.49572701382442,  max constr-viol:7.32019600491185e-09\n"
     ]
    },
    {
     "name": "stderr",
     "output_type": "stream",
     "text": [
      "/home/peron/.local/lib/python3.5/site-packages/scipy/optimize/_hessian_update_strategy.py:187: UserWarning: delta_grad == 0.0. Check if the approximated function is linear. If the function is linear better results can be obtained by defining the Hessian as zero instead of using quasi-Newton approximations.\n",
      "  'approximations.', UserWarning)\n"
     ]
    }
   ],
   "source": [
    "data=np.random.random((10,2))\n",
    "\n",
    "alpha=2\n",
    "finalData=np.random.random((3,2))+4\n",
    "initialData=data[0:8,:]\n",
    "initialPoints=initialData.shape[0]\n",
    "dimension=2\n",
    "f_dist,tree=fermat_graph(data,alpha=alpha)\n",
    "k=10\n",
    "\n",
    "cons=constraints(initialPoints,finalData)\n",
    "\n",
    "\n",
    "\n",
    "xinit=data[0:8,:]\n",
    "maxiter=100\n",
    "\n",
    "\n",
    "res=fermat_opt_transport(initialData,dimension,f_dist,tree,data,k,alpha,cons,xinit,maxiter)"
   ]
  },
  {
   "cell_type": "markdown",
   "metadata": {},
   "source": [
    "# Making easier to call it: fermat_ot wraps all the definitions, requiring only the problem of optimal transport input\n",
    "\n",
    "### data: points defining fermat_graph\n",
    "### initialData: [start,end), the points that will be transported are data[start:end,:]\n",
    "### finalData: destination points (distribution)\n",
    "### alpha: parameter used defining fermat_graph\n",
    "### k: number of neighbours used to calculate gradient and fermat distance of points outside data\n",
    "### xinit: initial value of the transported points\n"
   ]
  },
  {
   "cell_type": "code",
   "execution_count": 6,
   "metadata": {
    "collapsed": true
   },
   "outputs": [],
   "source": [
    "def fermat_ot(data,initialData,finalData,alpha,k,xinit,maxiter=100,first_moment=True,second_moment=True):\n",
    "    initialPoints=initialData.shape[0]\n",
    "    dimension=data.shape[1]\n",
    "    f_dist,tree=fermat_graph(data,alpha)\n",
    "    cons=constraints(initialPoints,finalData,first_moment,second_moment)\n",
    "    res=fermat_opt_transport(initialData,dimension,f_dist,tree,data,k,alpha,cons,xinit,maxiter)\n",
    "    return res"
   ]
  },
  {
   "cell_type": "markdown",
   "metadata": {},
   "source": [
    "# Some examples using fermat optimal transport"
   ]
  },
  {
   "cell_type": "code",
   "execution_count": 7,
   "metadata": {},
   "outputs": [
    {
     "data": {
      "text/plain": [
       "[<matplotlib.lines.Line2D at 0xa6bb0d0c>]"
      ]
     },
     "execution_count": 7,
     "metadata": {},
     "output_type": "execute_result"
    },
    {
     "data": {
      "image/png": "[encoded data removed]",
      "text/plain": [
       "<Figure size 432x288 with 1 Axes>"
      ]
     },
     "metadata": {
      "needs_background": "light"
     },
     "output_type": "display_data"
    }
   ],
   "source": [
    "puntos=200\n",
    "#Z son los iniciales\n",
    "#Y son los objetivo\n",
    "#x son los Z transformados, lo que voy a optimizar\n",
    "\n",
    "#OJO GUARDO LA DATA COMO XY XY XY XY (no como XXXX YYYYY ) \n",
    "\n",
    "y1, y2 = np.random.multivariate_normal([4,0], [[0.3,0],[0,1]], puntos).T\n",
    "y1=np.array(y1)\n",
    "y2=np.array(y2)\n",
    "y1=y1.reshape(-1,1)\n",
    "y2=y2.reshape(-1,1)\n",
    "\n",
    "Ycol=np.concatenate((y1,y2),axis=1)\n",
    "Y=Ycol.flatten()\n",
    "\n",
    "\n",
    "x1, x2 = np.random.multivariate_normal([-1,0], [[0.3,0],[0,1]], puntos//2).T\n",
    "x1=np.array(x1)\n",
    "x2=np.array(x2)\n",
    "x1=x1.reshape(-1,1)\n",
    "x2=x2.reshape(-1,1)\n",
    "Zcol=np.concatenate((x1,x2),axis=1)\n",
    "Z=Zcol.flatten()\n",
    "\n",
    "\n",
    "top=np.ones((40,2))\n",
    "bottom=-np.ones((40,2))\n",
    "dx=5/top.shape[0]\n",
    "for i in range(top.shape[0]):\n",
    "    top[i,0]=i*dx-1\n",
    "    bottom[i,0]=i*dx-1\n",
    "\n",
    "plt.axis('equal')\n",
    "plt.plot(x1,x2,'.',c='r')\n",
    "plt.plot(y1,y2,'.',c='b')\n",
    "plt.plot(top[:,0],top[:,1],'.',c='y')\n",
    "plt.plot(bottom[:,0],bottom[:,1],'.',c='y')\n"
   ]
  },
  {
   "cell_type": "code",
   "execution_count": null,
   "metadata": {},
   "outputs": [
    {
     "name": "stdout",
     "output_type": "stream",
     "text": [
      "Iter:1, cost: 208.528909775204,  max constr-viol:16.205881345665727\n",
      "Iter:2, cost: 209.78010343882366,  max constr-viol:16.104452625725582\n",
      "Iter:3, cost: 215.01651085538074,  max constr-viol:14.9913751849447\n",
      "Iter:4, cost: 379.3340686410564,  max constr-viol:9.623069797394137\n",
      "Iter:5, cost: 268.12053045334596,  max constr-viol:1.497668548412193\n",
      "Iter:6, cost: 243.5195592722287,  max constr-viol:0.3156472391805316\n",
      "Iter:7, cost: 236.68444460550828,  max constr-viol:0.04828427570926763\n",
      "Iter:8, cost: 234.21144629518253,  max constr-viol:0.03201379519964981\n",
      "Iter:9, cost: 234.21144629518253,  max constr-viol:0.03201379519964981\n",
      "Iter:10, cost: 232.5904245959781,  max constr-viol:0.025113747893193372\n",
      "Iter:11, cost: 232.2571981918251,  max constr-viol:0.01218915906783602\n",
      "Iter:12, cost: 231.8924134476457,  max constr-viol:0.010045523125676747\n",
      "Iter:13, cost: 231.00470883404105,  max constr-viol:0.014873997309885229\n",
      "Iter:14, cost: 231.00470883404105,  max constr-viol:0.014873997309885229\n"
     ]
    }
   ],
   "source": [
    "data=np.concatenate((Zcol,Ycol,bottom,top),axis=0)\n",
    "\n",
    "alpha=2\n",
    "k=10\n",
    "finalData=Ycol\n",
    "initialData=Zcol-[2,0]\n",
    "\n",
    "xinit=np.random.random(Zcol.shape)\n",
    "\n",
    "#FILTRO WARNINGS!!\n",
    "import warnings\n",
    "warnings.filterwarnings('ignore')\n",
    "\n",
    "res=fermat_ot(data,initialData,finalData,alpha,k,xinit,maxiter=100)\n",
    "\n"
   ]
  },
  {
   "cell_type": "code",
   "execution_count": null,
   "metadata": {},
   "outputs": [],
   "source": [
    "dimension=2\n",
    "\n",
    "X_transported=res['x']\n",
    "X_t=X_transported.reshape(-1,dimension)\n",
    "\n",
    "percent=0.9 #PORCENTAJE DE LINEAS QUE PLOTEO\n",
    "\n",
    "\n",
    "\n",
    "from matplotlib.pyplot import figure\n",
    "figure(num=None, figsize=(10, 10), dpi=80, facecolor='w', edgecolor='k')\n",
    "x=X_t[:,0]\n",
    "y=X_t[:,1]\n",
    "\n",
    "plt.plot(x,y,'x')\n",
    "plt.plot(initialData[:,0],initialData[:,1],'x',c='r')\n",
    "\n",
    "#plt.plot(y1,y2,'.',c='g')\n",
    "for i in range(int(len(x)*percent)):\n",
    "    plt.plot([initialData[i,0],x[i]],[initialData[i,1],y[i]],lw=0.1)\n",
    "plt.title('x optimizado')\n",
    "plt.show()\n",
    "#plt.plot([2,1],[4,4])\n",
    "\n",
    "\n",
    "\n",
    "figure(num=None, figsize=(10, 10), dpi=80, facecolor='w', edgecolor='k')\n",
    "inicial=xinit\n",
    "\n",
    "plt.plot(initialData[:,0],initialData[:,1],'x',c='r')\n",
    "plt.plot(inicial[:,0],inicial[:,1],'x',c='g')\n",
    "\n",
    "for i in range(int(len(x)*percent)):\n",
    "    plt.plot([initialData[i,0],inicial[i,0]],[initialData[i,1],inicial[i,1]],lw=0.1)\n",
    "\n",
    "plt.title('x incial')\n",
    "plt.show()\n",
    "\n",
    "\n",
    "\n",
    "plt.plot(x,y,'x')\n",
    "plt.plot(x1,x2,'.',c='y')\n",
    "plt.plot(y1,y2,'.',c='y')\n",
    "plt.plot(inicial[:,0],inicial[:,1],'x',c='g')\n",
    "plt.plot(initialData[:,0],initialData[:,1],'x',c='r')\n",
    "\n",
    "plt.plot(top[:,0],top[:,1],'.',c='y')\n",
    "plt.plot(bottom[:,0],bottom[:,1],'.',c='y')\n",
    "plt.title('Todo junto')\n",
    "plt.show()"
   ]
  },
  {
   "cell_type": "code",
   "execution_count": null,
   "metadata": {
    "collapsed": true
   },
   "outputs": [],
   "source": []
  },
  {
   "cell_type": "markdown",
   "metadata": {
    "collapsed": true
   },
   "source": [
    "# DE ACA PARA ABAJO SON PRUEBAS, MAS DESPROLIJO:\n",
    "\n",
    "## Barycenter: NO es tan simple reformularlo a la version de samples. Ahora lo que se mueve son los 'y' que seran la muestra del baricentro. Estos van a ser los initialData (PROBLEMA, HAY QUE DEFINIR OPTIMAL TRANSPORT CON INITIAL DATA FUERA DE LA SUPERFICIE) y los quiero mandar a cada uno de los x1,x2,x3... muestras de las distintas distribuciones. El costo será la suma de los costos c(y,x1)+c(y,x2)+c(y,x3) donde cada uno es un problema de optimizacion ya resuleto por fermat_opt. O sea, resuelvo cada uno de los tres problemas, me fijo el costo de cada solucion y los sumo. Ese será el costo de mi baricentro.\n",
    "\n",
    "## Gradiente para este costo del baricentro?? Ya es bastante dificil, no tengo definido el gradiente de lo que cuesta transportar!\n",
    "\n",
    "### Sería cuanto varía el costo de transporte si muevo un poquito un punto inicial: usar lo mismo que antes porque el fermat cost(x,y)= fermat cost(y,x). Entonces pienso que el punto al que mapea sigue siendo el mismo que esta fijo, el x y ya estoy.\n",
    "\n",
    "# Algoritmo:\n",
    "## Definir 'y' inicial\n",
    "## Repetir:\n",
    "###          resolver fermat_ot que mande y a x1,x2,x3,... Los puntos transportados serán x'1,x'2,x'3,... y los costos c1,c2,c3,...\n",
    "###           costo de 'y'=c1+c2+c3+...\n",
    "###           calcular gradiente de 'y' dados x'1,x'2,x'3,...\n",
    "###           actualizar 'y' con descenso por el gradiente o cualquier tecnica de optimizacion\n",
    "\n",
    "\n",
    "# Caluclo gradiente de 'y' dado x'1,x'2,x'3:\n",
    "### para cada punto de 'y', mirar sus k vecinos mas cercanos y quedarse con el de menor distancia de fermat desde  su asignado en x'1 (que no esta en el manifold!). Sumar tanto con x'1,x'2,x'3..."
   ]
  },
  {
   "cell_type": "code",
   "execution_count": null,
   "metadata": {},
   "outputs": [],
   "source": [
    "puntos=25\n",
    "dx=4/puntos\n",
    "x=np.array([-2+i*dx for i in range(puntos)]).reshape(-1,1)\n",
    "y=-x*x.reshape(-1,1) +0.2*np.random.random(puntos).reshape(-1,1)\n",
    "W=np.concatenate((x,y),axis=1)\n",
    "\n",
    "\n",
    "\n",
    "\n",
    "y1, y2 = np.random.multivariate_normal([2,-4], [[0.1,0],[0,0.1]], puntos).T\n",
    "y1=np.array(y1)\n",
    "y2=np.array(y2)\n",
    "y1=y1.reshape(-1,1)\n",
    "y2=y2.reshape(-1,1)\n",
    "\n",
    "Ycol=np.concatenate((y1,y2),axis=1)\n",
    "Y=Ycol.flatten()\n",
    "\n",
    "\n",
    "x1, x2 = np.random.multivariate_normal([-2,-4], [[0.1,0],[0,0.3]], puntos*2).T\n",
    "x1=np.array(x1)\n",
    "x2=np.array(x2)\n",
    "x1=x1.reshape(-1,1)\n",
    "x2=x2.reshape(-1,1)\n",
    "Zcol=np.concatenate((x1,x2),axis=1)\n",
    "Z=Zcol.flatten()\n",
    "\n",
    "\n",
    "\n",
    "\n",
    "\n",
    "plt.plot(W[:,0],W[:,1],'.',c='y')\n",
    "plt.plot(x1,x2,'x',c='r')\n",
    "plt.plot(y1,y2,'x',c='b')\n",
    "plt.title('Rojo es una distribucion, azul otra y amarillo es la superficie')\n",
    "plt.show()"
   ]
  },
  {
   "cell_type": "markdown",
   "metadata": {},
   "source": [
    "# CON GRADIENTE"
   ]
  },
  {
   "cell_type": "code",
   "execution_count": 59,
   "metadata": {},
   "outputs": [
    {
     "name": "stdout",
     "output_type": "stream",
     "text": [
      "POSTA Iter:1, cost: 349.5653065735971\n",
      "POSTA Iter:2, cost: 13.960743616801283\n",
      "POSTA Iter:3, cost: 4.473196734820225\n",
      "POSTA Iter:4, cost: 3.7812545721846127\n",
      "POSTA Iter:5, cost: 3.4131275313353555\n",
      "POSTA Iter:6, cost: 2.9990175897769946\n",
      "POSTA Iter:7, cost: 2.9990175897769946\n",
      "POSTA Iter:8, cost: 2.9100464954403504\n",
      "POSTA Iter:9, cost: 2.746243105173167\n",
      "POSTA Iter:10, cost: 2.4706943626800726\n",
      "POSTA Iter:11, cost: 2.3881616476178684\n",
      "POSTA Iter:12, cost: 2.3125007521607213\n",
      "POSTA Iter:13, cost: 2.3125007521607213\n",
      "POSTA Iter:14, cost: 2.3125007521607213\n",
      "POSTA Iter:15, cost: 2.3125007521607213\n",
      "POSTA Iter:16, cost: 2.3125007521607213\n",
      "POSTA Iter:17, cost: 2.309575854398174\n",
      "POSTA Iter:18, cost: 2.309575854398174\n",
      "POSTA Iter:19, cost: 2.309575854398174\n",
      "POSTA Iter:20, cost: 2.3092596460217814\n",
      "POSTA Iter:21, cost: 2.3092596460217814\n",
      "POSTA Iter:22, cost: 2.3092596460217814\n",
      "POSTA Iter:23, cost: 2.309254891143595\n",
      "POSTA Iter:24, cost: 2.309253033725355\n",
      "POSTA Iter:25, cost: 2.309253033725355\n",
      "POSTA Iter:26, cost: 2.309253033725355\n",
      "POSTA Iter:27, cost: 2.309253011277751\n",
      "POSTA Iter:28, cost: 2.309253011277751\n",
      "POSTA Iter:29, cost: 2.309253011277751\n",
      "POSTA Iter:30, cost: 2.309253011277751\n",
      "POSTA Iter:31, cost: 2.309253011277751\n",
      "The maximum number of function evaluations is exceeded.\n",
      "Number of iterations: 31, function evaluations: 31, CG iterations: 61, optimality: 5.26e-01, constraint violation: 0.00e+00, execution time: 1.9e+03 s.\n"
     ]
    }
   ],
   "source": [
    "def cost_function(y,data,f_dist,tree,distributions,alpha,k,maxiter=30):\n",
    "    dimension=data.shape[1]\n",
    "    real_y=y.reshape(-1,dimension)\n",
    "    cost=0\n",
    "    gradient=np.zeros(y.shape)\n",
    "    \n",
    "    for distribution in distributions:\n",
    "        \n",
    "        xinit=real_y\n",
    "        \n",
    "        initialPoints=real_y.shape[0]\n",
    "        cons=constraints(initialPoints,distribution)\n",
    "    \n",
    "        res=fermat_opt_transport(real_y,dimension,f_dist,tree,data,k,alpha,cons,xinit,callback=False,maxiter=maxiter)\n",
    "        \n",
    "        cost_for_distr=res['fun']\n",
    "        y_transported_for_distr=res['x'].reshape(-1,dimension)\n",
    "        \n",
    "        cost+=cost_for_distr\n",
    "        \n",
    "        gradient+=fermat_cost(y,y_transported_for_distr,dimension,f_dist,tree,data,k,alpha)[1]\n",
    "        \n",
    "    return cost,gradient\n",
    "\n",
    "\n",
    "data=np.concatenate((Ycol,Zcol,W),axis=0)\n",
    "\n",
    "distributions=[Ycol,Zcol] #a lo que le voy a tomar baricentro\n",
    "\n",
    "alpha=2\n",
    "k=10\n",
    "\n",
    "f_dist,tree=fermat_graph(data,alpha)\n",
    "    \n",
    "yinit=(np.random.random((puntos,2)) *5 )-1\n",
    "yinit=Zcol\n",
    "\n",
    "opti={\"disp\": True, \"maxiter\":30}\n",
    "    \n",
    "g= lambda x: cost_function(x,data,f_dist,tree,distributions,alpha,k)\n",
    "    \n",
    "global Nfevalposta\n",
    "Nfevalposta=1\n",
    "def callbackFposta(Xi,status=None):\n",
    "    global Nfevalposta\n",
    "    print ('POSTA Iter:'+ str(Nfevalposta)+', cost: '+str(g(Xi)[0]))\n",
    "    Nfevalposta += 1\n",
    "\n",
    "    \n",
    "#ELEGIR METODO ACA!!!\n",
    "#Ya probe el x defecto, no va.\n",
    "\n",
    "#SLSQP anda meh\n",
    "#trust-constr\n",
    "resposta = minimize(g, x0=yinit.flatten(),jac=True,method='trust-constr',options=opti,callback=callbackFposta)"
   ]
  },
  {
   "cell_type": "code",
   "execution_count": 60,
   "metadata": {},
   "outputs": [
    {
     "data": {
      "image/png": "[encoded data removed]",
      "text/plain": [
       "<Figure size 432x288 with 1 Axes>"
      ]
     },
     "metadata": {
      "needs_background": "light"
     },
     "output_type": "display_data"
    }
   ],
   "source": [
    "barycenter=resposta['x']\n",
    "barycenter=barycenter.reshape(-1,2)\n",
    "plt.plot(barycenter[:,0],barycenter[:,1],'.',c='g')\n",
    "\n",
    "plt.plot(yinit[:,0],yinit[:,1],'x',c='g')\n",
    "\n",
    "plt.plot(W[:,0],W[:,1],'.',c='y')\n",
    "plt.plot(x1,x2,'x',c='r')\n",
    "plt.plot(y1,y2,'x',c='b')\n",
    "plt.title('Rojo es una distribucion, azul otra y amarillo es la superficie. En verde el baricentro. Las cruces verdes el y incial')\n",
    "plt.show()"
   ]
  },
  {
   "cell_type": "code",
   "execution_count": null,
   "metadata": {
    "collapsed": true
   },
   "outputs": [],
   "source": []
  },
  {
   "cell_type": "code",
   "execution_count": null,
   "metadata": {
    "collapsed": true
   },
   "outputs": [],
   "source": [
    "methods=[None,'SLSQP','trust-constr','BFGS','CG','Newton-CG']\n",
    "for method in methods:\n",
    "    \n",
    "    resposta = minimize(g, x0=yinit.flatten(),jac=True,method=method,options=opti,callback=None)\n",
    "    \n",
    "    barycenter=resposta['x']\n",
    "    barycenter=barycenter.reshape(-1,2)\n",
    "    plt.plot(barycenter[:,0],barycenter[:,1],'.',c='g')\n",
    "\n",
    "    plt.plot(yinit[:,0],yinit[:,1],'x',c='g')\n",
    "\n",
    "    plt.plot(W[:,0],W[:,1],'.',c='y')\n",
    "    plt.plot(x1,x2,'x',c='r')\n",
    "    plt.plot(y1,y2,'x',c='b')\n",
    "    plt.title(str(method)+'Rojo es una distribucion, azul otra y amarillo es la superficie. En verde el baricentro. Las cruces el y incial')\n",
    "    plt.show()"
   ]
  },
  {
   "cell_type": "markdown",
   "metadata": {
    "collapsed": true
   },
   "source": [
    "# PROBLEMAS:\n",
    "\n",
    "### No puedo definir un gradiente para el costo de que una distribucion sea baricentro. Prque si uso la suma de gradiente de costos, medio que el tipo no se da cuenta que esta mas cerca de uno que de otro... "
   ]
  },
  {
   "cell_type": "code",
   "execution_count": null,
   "metadata": {
    "collapsed": true
   },
   "outputs": [],
   "source": []
  },
  {
   "cell_type": "markdown",
   "metadata": {},
   "source": [
    "### Propuesta: definir un gradiente que sea EN VEZ DE sum_i (el vector que apunta al k-nn de menor costo al correspondiente de cada x'i) \n",
    "\n",
    "###  definir que el gradiente apunte a alguno de los k vecinos con min( sum_i costos de transporte a los corrrespondientes x'i)"
   ]
  },
  {
   "cell_type": "code",
   "execution_count": null,
   "metadata": {
    "collapsed": true
   },
   "outputs": [],
   "source": []
  },
  {
   "cell_type": "code",
   "execution_count": null,
   "metadata": {
    "collapsed": true
   },
   "outputs": [],
   "source": []
  },
  {
   "cell_type": "code",
   "execution_count": null,
   "metadata": {
    "collapsed": true
   },
   "outputs": [],
   "source": []
  },
  {
   "cell_type": "code",
   "execution_count": null,
   "metadata": {
    "collapsed": true
   },
   "outputs": [],
   "source": []
  },
  {
   "cell_type": "code",
   "execution_count": null,
   "metadata": {
    "collapsed": true
   },
   "outputs": [],
   "source": []
  },
  {
   "cell_type": "code",
   "execution_count": null,
   "metadata": {
    "collapsed": true
   },
   "outputs": [],
   "source": []
  },
  {
   "cell_type": "code",
   "execution_count": null,
   "metadata": {
    "collapsed": true
   },
   "outputs": [],
   "source": []
  },
  {
   "cell_type": "code",
   "execution_count": null,
   "metadata": {
    "collapsed": true
   },
   "outputs": [],
   "source": []
  },
  {
   "cell_type": "code",
   "execution_count": null,
   "metadata": {
    "collapsed": true
   },
   "outputs": [],
   "source": []
  },
  {
   "cell_type": "code",
   "execution_count": null,
   "metadata": {
    "collapsed": true
   },
   "outputs": [],
   "source": []
  },
  {
   "cell_type": "markdown",
   "metadata": {},
   "source": [
    "# SIN GRADIENTE (TARDA INFINITO)"
   ]
  },
  {
   "cell_type": "code",
   "execution_count": null,
   "metadata": {
    "collapsed": true
   },
   "outputs": [],
   "source": [
    "\n",
    "#INCLUIR GRADIENTE!!!\n",
    "def cost_function(y,data,distributions,alpha,k,maxiter=100):\n",
    "    dimension=data.shape[1]\n",
    "    real_y=y.reshape(-1,dimension)\n",
    "    cost=0\n",
    "    for distribution in distributions:\n",
    "        xinit=real_y\n",
    "        res=fermat_ot(data,real_y,distribution,alpha,k,xinit,maxiter=maxiter)\n",
    "        cost_for_distr=res['fun']\n",
    "        y_transported_for_distr=res['x']\n",
    "        \n",
    "        cost+=cost_for_distr\n",
    "        \n",
    "    return cost\n",
    "\n",
    "\n",
    "data=np.concatenate((Ycol,Zcol,W),axis=0)\n",
    "\n",
    "distributions=[Ycol,Zcol] #a lo que le voy a tomar baricentro\n",
    "\n",
    "alpha=2\n",
    "k=10\n",
    "\n",
    "barycenter_sample_size=20\n",
    "\n",
    "yinit=(np.random.random((barycenter_sample_size,2))/10 )-1\n",
    "\n",
    "\n",
    "opt={\"disp\": True, \"maxiter\":100}\n",
    "    \n",
    "g= lambda x: cost_function(x,data,distributions,alpha,k)\n",
    "    \n",
    "global Nfevalposta\n",
    "Nfevalposta=1\n",
    "def callbackFposta(Xi,status):\n",
    "    global Nfevalposta\n",
    "    print ('POSTA Iter:'+ str(Nfevalposta)+', cost: '+str(g(Xi)[0]))\n",
    "    Nfevalposta += 1\n",
    "\n",
    "res = minimize(g, x0=yinit.flatten(), options=opt, method='trust-constr',callback=callbackFposta)"
   ]
  },
  {
   "cell_type": "code",
   "execution_count": null,
   "metadata": {
    "collapsed": true
   },
   "outputs": [],
   "source": [
    "barycenter=res['x']\n",
    "barycenter=barycenter.reshape(-1,2)\n",
    "plt.plot(barycenter[:,0],barycenter[:,1],'.',c='g')\n",
    "\n",
    "plt.plot(yinit[:,0],yinit[:,1],'x')\n",
    "\n",
    "plt.plot(W[:,0],W[:,1],'.',c='y')\n",
    "plt.plot(x1,x2,'x',c='r')\n",
    "plt.plot(y1,y2,'x',c='b')\n",
    "plt.title('Rojo es una distribucion, azul otra y amarillo es la superficie. En verde el baricentro. Las cruces el y incial')\n",
    "plt.show()"
   ]
  }
 ],
 "metadata": {
  "kernelspec": {
   "display_name": "Python 3",
   "language": "python",
   "name": "python3"
  },
  "language_info": {
   "codemirror_mode": {
    "name": "ipython",
    "version": 3
   },
   "file_extension": ".py",
   "mimetype": "text/x-python",
   "name": "python",
   "nbconvert_exporter": "python",
   "pygments_lexer": "ipython3",
   "version": "3.5.2"
  }
 },
 "nbformat": 4,
 "nbformat_minor": 2
}
